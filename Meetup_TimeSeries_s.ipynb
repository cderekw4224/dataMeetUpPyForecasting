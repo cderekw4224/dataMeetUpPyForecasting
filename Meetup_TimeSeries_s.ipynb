{
  "nbformat": 4,
  "nbformat_minor": 0,
  "metadata": {
    "colab": {
      "name": "Meetup_TimeSeries_s.ipynb",
      "version": "0.3.2",
      "provenance": [],
      "include_colab_link": true
    },
    "language_info": {
      "codemirror_mode": {
        "name": "ipython",
        "version": 3
      },
      "file_extension": ".py",
      "mimetype": "text/x-python",
      "name": "python",
      "nbconvert_exporter": "python",
      "pygments_lexer": "ipython3",
      "version": "3.6.6"
    },
    "kernelspec": {
      "display_name": "Python 3",
      "language": "python",
      "name": "python3"
    }
  },
  "cells": [
    {
      "cell_type": "markdown",
      "metadata": {
        "id": "view-in-github",
        "colab_type": "text"
      },
      "source": [
        "<a href=\"https://colab.research.google.com/github/cderekw4224/dataMeetUpPyForecasting/blob/master/Meetup_TimeSeries_s.ipynb\" target=\"_parent\"><img src=\"https://colab.research.google.com/assets/colab-badge.svg\" alt=\"Open In Colab\"/></a>"
      ]
    },
    {
      "cell_type": "markdown",
      "metadata": {
        "id": "1546hNv3fSKh",
        "colab_type": "text"
      },
      "source": [
        "# What is time series data?\n",
        "\n",
        "- Data with time (e.g., minutes, hours, day, month, year) information\n",
        "- Popular in marketing, finance, economics, education, etc.\n",
        "- Understanding the past and forecasting the future\n",
        "- Examples (e.g., predicting student enrollment, predicting economic indicators)"
      ]
    },
    {
      "cell_type": "markdown",
      "metadata": {
        "id": "bjmjwlkEfSK-",
        "colab_type": "text"
      },
      "source": [
        "# Install Python Packages\n",
        "\n",
        "- To collect time-series data from the web"
      ]
    },
    {
      "cell_type": "markdown",
      "metadata": {
        "id": "F0xodZc9fSLD",
        "colab_type": "text"
      },
      "source": [
        "Install pandas-datareader http://pandas-datareader.readthedocs.org/en/latest/"
      ]
    },
    {
      "cell_type": "code",
      "metadata": {
        "ExecuteTime": {
          "end_time": "2019-05-18T03:33:36.170021Z",
          "start_time": "2019-05-18T03:32:51.950597Z"
        },
        "id": "uIF7CCgHfSLN",
        "colab_type": "code",
        "colab": {
          "base_uri": "https://localhost:8080/",
          "height": 255
        },
        "outputId": "9720bf38-13ae-4ca2-fb4e-e497fb53cea9"
      },
      "source": [
        "!pip install pandas-datareader"
      ],
      "execution_count": 1,
      "outputs": [
        {
          "output_type": "stream",
          "text": [
            "Requirement already satisfied: pandas-datareader in /usr/local/lib/python3.6/dist-packages (0.7.0)\n",
            "Requirement already satisfied: wrapt in /usr/local/lib/python3.6/dist-packages (from pandas-datareader) (1.10.11)\n",
            "Requirement already satisfied: requests>=2.3.0 in /usr/local/lib/python3.6/dist-packages (from pandas-datareader) (2.21.0)\n",
            "Requirement already satisfied: pandas>=0.19.2 in /usr/local/lib/python3.6/dist-packages (from pandas-datareader) (0.24.2)\n",
            "Requirement already satisfied: lxml in /usr/local/lib/python3.6/dist-packages (from pandas-datareader) (4.2.6)\n",
            "Requirement already satisfied: chardet<3.1.0,>=3.0.2 in /usr/local/lib/python3.6/dist-packages (from requests>=2.3.0->pandas-datareader) (3.0.4)\n",
            "Requirement already satisfied: certifi>=2017.4.17 in /usr/local/lib/python3.6/dist-packages (from requests>=2.3.0->pandas-datareader) (2019.3.9)\n",
            "Requirement already satisfied: urllib3<1.25,>=1.21.1 in /usr/local/lib/python3.6/dist-packages (from requests>=2.3.0->pandas-datareader) (1.24.3)\n",
            "Requirement already satisfied: idna<2.9,>=2.5 in /usr/local/lib/python3.6/dist-packages (from requests>=2.3.0->pandas-datareader) (2.8)\n",
            "Requirement already satisfied: pytz>=2011k in /usr/local/lib/python3.6/dist-packages (from pandas>=0.19.2->pandas-datareader) (2018.9)\n",
            "Requirement already satisfied: numpy>=1.12.0 in /usr/local/lib/python3.6/dist-packages (from pandas>=0.19.2->pandas-datareader) (1.16.3)\n",
            "Requirement already satisfied: python-dateutil>=2.5.0 in /usr/local/lib/python3.6/dist-packages (from pandas>=0.19.2->pandas-datareader) (2.5.3)\n",
            "Requirement already satisfied: six>=1.5 in /usr/local/lib/python3.6/dist-packages (from python-dateutil>=2.5.0->pandas>=0.19.2->pandas-datareader) (1.12.0)\n"
          ],
          "name": "stdout"
        }
      ]
    },
    {
      "cell_type": "code",
      "metadata": {
        "ExecuteTime": {
          "end_time": "2019-05-18T11:57:49.350139Z",
          "start_time": "2019-05-18T11:57:47.007565Z"
        },
        "id": "MdK2LYK0fSL2",
        "colab_type": "code",
        "colab": {}
      },
      "source": [
        "import pandas as pd\n",
        "import numpy as np\n",
        "\n",
        "from pandas_datareader import data, wb\n",
        "import datetime\n",
        "\n",
        "from sklearn import linear_model\n",
        "import statsmodels.api as sm\n",
        "\n",
        "import matplotlib.pyplot as plt\n",
        "%matplotlib inline\n",
        "\n",
        "\n",
        "from sklearn.model_selection import RepeatedKFold \n",
        "from sklearn.model_selection import cross_val_score\n",
        "from sklearn.model_selection import cross_val_predict\n",
        "from sklearn import metrics\n",
        "\n",
        "from sklearn.ensemble import RandomForestRegressor\n",
        "\n",
        "from sklearn.linear_model import LassoCV\n",
        "from sklearn.linear_model import Lasso\n",
        "from sklearn.linear_model import Ridge\n",
        "from sklearn.model_selection import KFold\n",
        "from sklearn.model_selection import GridSearchCV\n",
        "from sklearn.model_selection import RandomizedSearchCV\n",
        "\n",
        "from sklearn.metrics import explained_variance_score\n",
        "from sklearn.metrics import mean_absolute_error\n",
        "from sklearn.metrics import mean_squared_error\n",
        "from sklearn.metrics import r2_score"
      ],
      "execution_count": 0,
      "outputs": []
    },
    {
      "cell_type": "markdown",
      "metadata": {
        "id": "Ycxv3MhLfSML",
        "colab_type": "text"
      },
      "source": [
        "# Get Time-Series Data from the web\n",
        "\n",
        "- Time-series data is everywhere!"
      ]
    },
    {
      "cell_type": "markdown",
      "metadata": {
        "id": "zqpJowYEfSMV",
        "colab_type": "text"
      },
      "source": [
        "http://pandas-datareader.readthedocs.org/en/latest/\n",
        "\n",
        "http://pandas.pydata.org/pandas-docs/stable/remote_data.html\n",
        "\n",
        "Functions from pandas.io.data and pandas.io.ga extract data from various Internet sources into a DataFrame. Currently the following sources are supported:\n",
        "\n",
        "* Yahoo! Finance\n",
        "* Google Finance\n",
        "* St.Louis FED (FRED)\n",
        "* Kenneth French’s data library\n",
        "* World Bank\n",
        "* Google Analytics\n",
        "\n",
        "It should be noted, that various sources support different kinds of data, so not all sources implement the same methods and the data elements returned might also differ."
      ]
    },
    {
      "cell_type": "code",
      "metadata": {
        "ExecuteTime": {
          "end_time": "2019-05-18T19:13:53.080532Z",
          "start_time": "2019-05-18T19:13:51.999592Z"
        },
        "id": "qi2g7uNRfSNA",
        "colab_type": "code",
        "colab": {}
      },
      "source": [
        "start = datetime.datetime(2010, 1, 1)\n",
        "end = datetime.datetime(2015, 5, 27)\n",
        "\n",
        "#SPY: Summary for SPDR S&P 500- Yahoo! Finance\n",
        "df = data.DataReader(\"SPY\", 'yahoo', start, end)"
      ],
      "execution_count": 0,
      "outputs": []
    },
    {
      "cell_type": "code",
      "metadata": {
        "ExecuteTime": {
          "end_time": "2019-05-18T19:13:53.096512Z",
          "start_time": "2019-05-18T19:13:53.080532Z"
        },
        "id": "5uV-BicffSNR",
        "colab_type": "code",
        "colab": {},
        "outputId": "9c43e5aa-4c09-49ec-d497-3e01641fadc6"
      },
      "source": [
        "print(df.head())\n",
        "print(df.tail())"
      ],
      "execution_count": 0,
      "outputs": [
        {
          "output_type": "stream",
          "text": [
            "                  High         Low        Open       Close       Volume  \\\n",
            "Date                                                                      \n",
            "2010-01-04  113.389999  111.510002  112.370003  113.330002  118944600.0   \n",
            "2010-01-05  113.680000  112.849998  113.260002  113.629997  111579900.0   \n",
            "2010-01-06  113.989998  113.430000  113.519997  113.709999  116074400.0   \n",
            "2010-01-07  114.330002  113.180000  113.500000  114.190002  131091100.0   \n",
            "2010-01-08  114.620003  113.660004  113.889999  114.570000  126402800.0   \n",
            "\n",
            "            Adj Close  \n",
            "Date                   \n",
            "2010-01-04  94.130867  \n",
            "2010-01-05  94.380074  \n",
            "2010-01-06  94.446495  \n",
            "2010-01-07  94.845207  \n",
            "2010-01-08  95.160805  \n",
            "                  High         Low        Open       Close       Volume  \\\n",
            "Date                                                                      \n",
            "2015-05-21  213.750000  212.509995  212.710007  213.500000   64764600.0   \n",
            "2015-05-22  213.539993  212.910004  213.039993  212.990005   57433500.0   \n",
            "2015-05-26  212.910004  210.199997  212.399994  210.699997  124308600.0   \n",
            "2015-05-27  212.979996  210.759995  211.250000  212.699997   93214000.0   \n",
            "2015-05-28  212.589996  211.630005  212.330002  212.460007   74974600.0   \n",
            "\n",
            "             Adj Close  \n",
            "Date                    \n",
            "2015-05-21  197.146927  \n",
            "2015-05-22  196.675980  \n",
            "2015-05-26  194.561401  \n",
            "2015-05-27  196.408203  \n",
            "2015-05-28  196.186539  \n"
          ],
          "name": "stdout"
        }
      ]
    },
    {
      "cell_type": "code",
      "metadata": {
        "ExecuteTime": {
          "end_time": "2019-05-18T19:13:53.802575Z",
          "start_time": "2019-05-18T19:13:53.794571Z"
        },
        "id": "nSTTdi5_fSNr",
        "colab_type": "code",
        "colab": {},
        "outputId": "d5b6a2fe-c14f-4a19-bd00-66a37ad1a813"
      },
      "source": [
        "print(df.index)"
      ],
      "execution_count": 0,
      "outputs": [
        {
          "output_type": "stream",
          "text": [
            "DatetimeIndex(['2010-01-04', '2010-01-05', '2010-01-06', '2010-01-07',\n",
            "               '2010-01-08', '2010-01-11', '2010-01-12', '2010-01-13',\n",
            "               '2010-01-14', '2010-01-15',\n",
            "               ...\n",
            "               '2015-05-14', '2015-05-15', '2015-05-18', '2015-05-19',\n",
            "               '2015-05-20', '2015-05-21', '2015-05-22', '2015-05-26',\n",
            "               '2015-05-27', '2015-05-28'],\n",
            "              dtype='datetime64[ns]', name='Date', length=1359, freq=None)\n"
          ],
          "name": "stdout"
        }
      ]
    },
    {
      "cell_type": "code",
      "metadata": {
        "ExecuteTime": {
          "end_time": "2019-05-18T19:13:54.182598Z",
          "start_time": "2019-05-18T19:13:54.082568Z"
        },
        "id": "1lRZpsqPfSN7",
        "colab_type": "code",
        "colab": {},
        "outputId": "5a6b9ef1-eab8-48e1-f2c0-68aac13a4380"
      },
      "source": [
        "print(df.index.values)"
      ],
      "execution_count": 0,
      "outputs": [
        {
          "output_type": "stream",
          "text": [
            "['2010-01-04T00:00:00.000000000' '2010-01-05T00:00:00.000000000'\n",
            " '2010-01-06T00:00:00.000000000' ... '2015-05-26T00:00:00.000000000'\n",
            " '2015-05-27T00:00:00.000000000' '2015-05-28T00:00:00.000000000']\n"
          ],
          "name": "stdout"
        }
      ]
    },
    {
      "cell_type": "code",
      "metadata": {
        "ExecuteTime": {
          "end_time": "2019-05-18T19:13:54.418569Z",
          "start_time": "2019-05-18T19:13:54.402569Z"
        },
        "id": "Rsh9UhinfSOR",
        "colab_type": "code",
        "colab": {},
        "outputId": "4fb826d0-c959-4441-ff0d-be9a0de90be9"
      },
      "source": [
        "df.info()"
      ],
      "execution_count": 0,
      "outputs": [
        {
          "output_type": "stream",
          "text": [
            "<class 'pandas.core.frame.DataFrame'>\n",
            "DatetimeIndex: 1359 entries, 2010-01-04 to 2015-05-28\n",
            "Data columns (total 6 columns):\n",
            "High         1359 non-null float64\n",
            "Low          1359 non-null float64\n",
            "Open         1359 non-null float64\n",
            "Close        1359 non-null float64\n",
            "Volume       1359 non-null float64\n",
            "Adj Close    1359 non-null float64\n",
            "dtypes: float64(6)\n",
            "memory usage: 74.3 KB\n"
          ],
          "name": "stdout"
        }
      ]
    },
    {
      "cell_type": "code",
      "metadata": {
        "ExecuteTime": {
          "end_time": "2019-05-18T19:13:54.722584Z",
          "start_time": "2019-05-18T19:13:54.686568Z"
        },
        "id": "XjX0N5CqfSOi",
        "colab_type": "code",
        "colab": {},
        "outputId": "ffdf9cf6-c95d-4048-a278-66c73407bd97"
      },
      "source": [
        "# summary statistics accross the whole DataFrame\n",
        "df.describe()"
      ],
      "execution_count": 0,
      "outputs": [
        {
          "output_type": "execute_result",
          "data": {
            "text/html": [
              "<div>\n",
              "<style scoped>\n",
              "    .dataframe tbody tr th:only-of-type {\n",
              "        vertical-align: middle;\n",
              "    }\n",
              "\n",
              "    .dataframe tbody tr th {\n",
              "        vertical-align: top;\n",
              "    }\n",
              "\n",
              "    .dataframe thead th {\n",
              "        text-align: right;\n",
              "    }\n",
              "</style>\n",
              "<table border=\"1\" class=\"dataframe\">\n",
              "  <thead>\n",
              "    <tr style=\"text-align: right;\">\n",
              "      <th></th>\n",
              "      <th>High</th>\n",
              "      <th>Low</th>\n",
              "      <th>Open</th>\n",
              "      <th>Close</th>\n",
              "      <th>Volume</th>\n",
              "      <th>Adj Close</th>\n",
              "    </tr>\n",
              "  </thead>\n",
              "  <tbody>\n",
              "    <tr>\n",
              "      <th>count</th>\n",
              "      <td>1359.000000</td>\n",
              "      <td>1359.000000</td>\n",
              "      <td>1359.000000</td>\n",
              "      <td>1359.000000</td>\n",
              "      <td>1.359000e+03</td>\n",
              "      <td>1359.000000</td>\n",
              "    </tr>\n",
              "    <tr>\n",
              "      <th>mean</th>\n",
              "      <td>152.637196</td>\n",
              "      <td>151.039139</td>\n",
              "      <td>151.870368</td>\n",
              "      <td>151.907506</td>\n",
              "      <td>1.571199e+08</td>\n",
              "      <td>133.937824</td>\n",
              "    </tr>\n",
              "    <tr>\n",
              "      <th>std</th>\n",
              "      <td>32.275346</td>\n",
              "      <td>32.290878</td>\n",
              "      <td>32.269864</td>\n",
              "      <td>32.281570</td>\n",
              "      <td>8.057946e+07</td>\n",
              "      <td>32.706163</td>\n",
              "    </tr>\n",
              "    <tr>\n",
              "      <th>min</th>\n",
              "      <td>103.419998</td>\n",
              "      <td>101.129997</td>\n",
              "      <td>103.110001</td>\n",
              "      <td>102.199997</td>\n",
              "      <td>4.296340e+07</td>\n",
              "      <td>85.641502</td>\n",
              "    </tr>\n",
              "    <tr>\n",
              "      <th>25%</th>\n",
              "      <td>126.355000</td>\n",
              "      <td>125.005001</td>\n",
              "      <td>125.735001</td>\n",
              "      <td>125.764999</td>\n",
              "      <td>1.034368e+08</td>\n",
              "      <td>107.636269</td>\n",
              "    </tr>\n",
              "    <tr>\n",
              "      <th>50%</th>\n",
              "      <td>141.830002</td>\n",
              "      <td>140.369995</td>\n",
              "      <td>141.179993</td>\n",
              "      <td>141.259995</td>\n",
              "      <td>1.391727e+08</td>\n",
              "      <td>123.531578</td>\n",
              "    </tr>\n",
              "    <tr>\n",
              "      <th>75%</th>\n",
              "      <td>183.409996</td>\n",
              "      <td>181.765007</td>\n",
              "      <td>182.689995</td>\n",
              "      <td>182.839996</td>\n",
              "      <td>1.905006e+08</td>\n",
              "      <td>164.864220</td>\n",
              "    </tr>\n",
              "    <tr>\n",
              "      <th>max</th>\n",
              "      <td>213.779999</td>\n",
              "      <td>212.910004</td>\n",
              "      <td>213.240005</td>\n",
              "      <td>213.500000</td>\n",
              "      <td>7.178287e+08</td>\n",
              "      <td>197.146927</td>\n",
              "    </tr>\n",
              "  </tbody>\n",
              "</table>\n",
              "</div>"
            ],
            "text/plain": [
              "              High          Low         Open        Close        Volume  \\\n",
              "count  1359.000000  1359.000000  1359.000000  1359.000000  1.359000e+03   \n",
              "mean    152.637196   151.039139   151.870368   151.907506  1.571199e+08   \n",
              "std      32.275346    32.290878    32.269864    32.281570  8.057946e+07   \n",
              "min     103.419998   101.129997   103.110001   102.199997  4.296340e+07   \n",
              "25%     126.355000   125.005001   125.735001   125.764999  1.034368e+08   \n",
              "50%     141.830002   140.369995   141.179993   141.259995  1.391727e+08   \n",
              "75%     183.409996   181.765007   182.689995   182.839996  1.905006e+08   \n",
              "max     213.779999   212.910004   213.240005   213.500000  7.178287e+08   \n",
              "\n",
              "         Adj Close  \n",
              "count  1359.000000  \n",
              "mean    133.937824  \n",
              "std      32.706163  \n",
              "min      85.641502  \n",
              "25%     107.636269  \n",
              "50%     123.531578  \n",
              "75%     164.864220  \n",
              "max     197.146927  "
            ]
          },
          "metadata": {
            "tags": []
          },
          "execution_count": 95
        }
      ]
    },
    {
      "cell_type": "code",
      "metadata": {
        "ExecuteTime": {
          "end_time": "2019-05-18T19:13:55.014573Z",
          "start_time": "2019-05-18T19:13:54.998567Z"
        },
        "id": "wNx2A7PyfSO1",
        "colab_type": "code",
        "colab": {},
        "outputId": "c7b99d05-0d09-49f1-fd08-e3aed94844d9"
      },
      "source": [
        "# Closing price for most recent 5 trading days\n",
        "df[['Close']].tail()"
      ],
      "execution_count": 0,
      "outputs": [
        {
          "output_type": "execute_result",
          "data": {
            "text/html": [
              "<div>\n",
              "<style scoped>\n",
              "    .dataframe tbody tr th:only-of-type {\n",
              "        vertical-align: middle;\n",
              "    }\n",
              "\n",
              "    .dataframe tbody tr th {\n",
              "        vertical-align: top;\n",
              "    }\n",
              "\n",
              "    .dataframe thead th {\n",
              "        text-align: right;\n",
              "    }\n",
              "</style>\n",
              "<table border=\"1\" class=\"dataframe\">\n",
              "  <thead>\n",
              "    <tr style=\"text-align: right;\">\n",
              "      <th></th>\n",
              "      <th>Close</th>\n",
              "    </tr>\n",
              "    <tr>\n",
              "      <th>Date</th>\n",
              "      <th></th>\n",
              "    </tr>\n",
              "  </thead>\n",
              "  <tbody>\n",
              "    <tr>\n",
              "      <th>2015-05-21</th>\n",
              "      <td>213.500000</td>\n",
              "    </tr>\n",
              "    <tr>\n",
              "      <th>2015-05-22</th>\n",
              "      <td>212.990005</td>\n",
              "    </tr>\n",
              "    <tr>\n",
              "      <th>2015-05-26</th>\n",
              "      <td>210.699997</td>\n",
              "    </tr>\n",
              "    <tr>\n",
              "      <th>2015-05-27</th>\n",
              "      <td>212.699997</td>\n",
              "    </tr>\n",
              "    <tr>\n",
              "      <th>2015-05-28</th>\n",
              "      <td>212.460007</td>\n",
              "    </tr>\n",
              "  </tbody>\n",
              "</table>\n",
              "</div>"
            ],
            "text/plain": [
              "                 Close\n",
              "Date                  \n",
              "2015-05-21  213.500000\n",
              "2015-05-22  212.990005\n",
              "2015-05-26  210.699997\n",
              "2015-05-27  212.699997\n",
              "2015-05-28  212.460007"
            ]
          },
          "metadata": {
            "tags": []
          },
          "execution_count": 96
        }
      ]
    },
    {
      "cell_type": "code",
      "metadata": {
        "ExecuteTime": {
          "end_time": "2019-05-18T19:13:55.747643Z",
          "start_time": "2019-05-18T19:13:55.386571Z"
        },
        "id": "yv4BDoSifSPX",
        "colab_type": "code",
        "colab": {},
        "outputId": "eb9d7b3b-4945-4f01-d49e-35aca9f87651"
      },
      "source": [
        "# plot the historical closing prices and volume using matplotlib\n",
        "df[['Close', 'Volume']].plot(subplots=True, figsize=(16, 8));"
      ],
      "execution_count": 0,
      "outputs": [
        {
          "output_type": "display_data",
          "data": {
            "image/png": "[encoded data removed]",
            "text/plain": [
              "<Figure size 1152x576 with 2 Axes>"
            ]
          },
          "metadata": {
            "tags": [],
            "needs_background": "light"
          }
        }
      ]
    },
    {
      "cell_type": "code",
      "metadata": {
        "ExecuteTime": {
          "end_time": "2019-05-18T19:13:56.075664Z",
          "start_time": "2019-05-18T19:13:55.847646Z"
        },
        "id": "OS4M1305fSPl",
        "colab_type": "code",
        "colab": {},
        "outputId": "35f284f4-6859-40d9-a8a8-ff9b51ceb3e7"
      },
      "source": [
        "df['Close'].plot(figsize=(16,8));"
      ],
      "execution_count": 0,
      "outputs": [
        {
          "output_type": "display_data",
          "data": {
            "image/png": "[encoded data removed]",
            "text/plain": [
              "<Figure size 1152x576 with 1 Axes>"
            ]
          },
          "metadata": {
            "tags": [],
            "needs_background": "light"
          }
        }
      ]
    },
    {
      "cell_type": "code",
      "metadata": {
        "ExecuteTime": {
          "end_time": "2019-05-18T19:13:56.111662Z",
          "start_time": "2019-05-18T19:13:56.075664Z"
        },
        "id": "-4SAecqPfSPz",
        "colab_type": "code",
        "colab": {},
        "outputId": "ec73881f-cd6e-4486-81a9-cba3fefef993"
      },
      "source": [
        "# find the higest closing price\n",
        "df.sort_values(['Close'], ascending=False)"
      ],
      "execution_count": 0,
      "outputs": [
        {
          "output_type": "execute_result",
          "data": {
            "text/html": [
              "<div>\n",
              "<style scoped>\n",
              "    .dataframe tbody tr th:only-of-type {\n",
              "        vertical-align: middle;\n",
              "    }\n",
              "\n",
              "    .dataframe tbody tr th {\n",
              "        vertical-align: top;\n",
              "    }\n",
              "\n",
              "    .dataframe thead th {\n",
              "        text-align: right;\n",
              "    }\n",
              "</style>\n",
              "<table border=\"1\" class=\"dataframe\">\n",
              "  <thead>\n",
              "    <tr style=\"text-align: right;\">\n",
              "      <th></th>\n",
              "      <th>High</th>\n",
              "      <th>Low</th>\n",
              "      <th>Open</th>\n",
              "      <th>Close</th>\n",
              "      <th>Volume</th>\n",
              "      <th>Adj Close</th>\n",
              "    </tr>\n",
              "    <tr>\n",
              "      <th>Date</th>\n",
              "      <th></th>\n",
              "      <th></th>\n",
              "      <th></th>\n",
              "      <th></th>\n",
              "      <th></th>\n",
              "      <th></th>\n",
              "    </tr>\n",
              "  </thead>\n",
              "  <tbody>\n",
              "    <tr>\n",
              "      <th>2015-05-21</th>\n",
              "      <td>213.750000</td>\n",
              "      <td>212.509995</td>\n",
              "      <td>212.710007</td>\n",
              "      <td>213.500000</td>\n",
              "      <td>64764600.0</td>\n",
              "      <td>197.146927</td>\n",
              "    </tr>\n",
              "    <tr>\n",
              "      <th>2015-05-18</th>\n",
              "      <td>213.399994</td>\n",
              "      <td>212.160004</td>\n",
              "      <td>212.240005</td>\n",
              "      <td>213.100006</td>\n",
              "      <td>72785600.0</td>\n",
              "      <td>196.777573</td>\n",
              "    </tr>\n",
              "    <tr>\n",
              "      <th>2015-05-19</th>\n",
              "      <td>213.570007</td>\n",
              "      <td>212.690002</td>\n",
              "      <td>213.240005</td>\n",
              "      <td>213.029999</td>\n",
              "      <td>72114600.0</td>\n",
              "      <td>196.712906</td>\n",
              "    </tr>\n",
              "    <tr>\n",
              "      <th>2015-05-22</th>\n",
              "      <td>213.539993</td>\n",
              "      <td>212.910004</td>\n",
              "      <td>213.039993</td>\n",
              "      <td>212.990005</td>\n",
              "      <td>57433500.0</td>\n",
              "      <td>196.675980</td>\n",
              "    </tr>\n",
              "    <tr>\n",
              "      <th>2015-05-20</th>\n",
              "      <td>213.779999</td>\n",
              "      <td>212.500000</td>\n",
              "      <td>213.149994</td>\n",
              "      <td>212.880005</td>\n",
              "      <td>76857500.0</td>\n",
              "      <td>196.574402</td>\n",
              "    </tr>\n",
              "    <tr>\n",
              "      <th>2015-05-27</th>\n",
              "      <td>212.979996</td>\n",
              "      <td>210.759995</td>\n",
              "      <td>211.250000</td>\n",
              "      <td>212.699997</td>\n",
              "      <td>93214000.0</td>\n",
              "      <td>196.408203</td>\n",
              "    </tr>\n",
              "    <tr>\n",
              "      <th>2015-05-28</th>\n",
              "      <td>212.589996</td>\n",
              "      <td>211.630005</td>\n",
              "      <td>212.330002</td>\n",
              "      <td>212.460007</td>\n",
              "      <td>74974600.0</td>\n",
              "      <td>196.186539</td>\n",
              "    </tr>\n",
              "    <tr>\n",
              "      <th>2015-05-15</th>\n",
              "      <td>212.610001</td>\n",
              "      <td>211.860001</td>\n",
              "      <td>212.440002</td>\n",
              "      <td>212.440002</td>\n",
              "      <td>76510100.0</td>\n",
              "      <td>196.168091</td>\n",
              "    </tr>\n",
              "    <tr>\n",
              "      <th>2015-05-14</th>\n",
              "      <td>212.320007</td>\n",
              "      <td>210.910004</td>\n",
              "      <td>211.240005</td>\n",
              "      <td>212.210007</td>\n",
              "      <td>95934000.0</td>\n",
              "      <td>195.955719</td>\n",
              "    </tr>\n",
              "    <tr>\n",
              "      <th>2015-03-02</th>\n",
              "      <td>212.059998</td>\n",
              "      <td>210.720001</td>\n",
              "      <td>210.779999</td>\n",
              "      <td>211.990005</td>\n",
              "      <td>87491400.0</td>\n",
              "      <td>194.882874</td>\n",
              "    </tr>\n",
              "    <tr>\n",
              "      <th>2015-02-24</th>\n",
              "      <td>212.050003</td>\n",
              "      <td>210.759995</td>\n",
              "      <td>211.119995</td>\n",
              "      <td>211.809998</td>\n",
              "      <td>70943200.0</td>\n",
              "      <td>194.717361</td>\n",
              "    </tr>\n",
              "    <tr>\n",
              "      <th>2015-04-24</th>\n",
              "      <td>211.970001</td>\n",
              "      <td>211.110001</td>\n",
              "      <td>211.660004</td>\n",
              "      <td>211.649994</td>\n",
              "      <td>61327400.0</td>\n",
              "      <td>195.438599</td>\n",
              "    </tr>\n",
              "    <tr>\n",
              "      <th>2015-02-25</th>\n",
              "      <td>212.240005</td>\n",
              "      <td>211.220001</td>\n",
              "      <td>211.660004</td>\n",
              "      <td>211.630005</td>\n",
              "      <td>73061700.0</td>\n",
              "      <td>194.551895</td>\n",
              "    </tr>\n",
              "    <tr>\n",
              "      <th>2015-05-08</th>\n",
              "      <td>211.860001</td>\n",
              "      <td>210.779999</td>\n",
              "      <td>210.880005</td>\n",
              "      <td>211.619995</td>\n",
              "      <td>155877300.0</td>\n",
              "      <td>195.410919</td>\n",
              "    </tr>\n",
              "    <tr>\n",
              "      <th>2015-04-28</th>\n",
              "      <td>211.500000</td>\n",
              "      <td>209.330002</td>\n",
              "      <td>210.740005</td>\n",
              "      <td>211.440002</td>\n",
              "      <td>86863500.0</td>\n",
              "      <td>195.244736</td>\n",
              "    </tr>\n",
              "    <tr>\n",
              "      <th>2015-02-26</th>\n",
              "      <td>211.710007</td>\n",
              "      <td>210.649994</td>\n",
              "      <td>211.520004</td>\n",
              "      <td>211.380005</td>\n",
              "      <td>72697900.0</td>\n",
              "      <td>194.322052</td>\n",
              "    </tr>\n",
              "    <tr>\n",
              "      <th>2015-05-04</th>\n",
              "      <td>212.020004</td>\n",
              "      <td>211.100006</td>\n",
              "      <td>211.229996</td>\n",
              "      <td>211.320007</td>\n",
              "      <td>70927200.0</td>\n",
              "      <td>195.133881</td>\n",
              "    </tr>\n",
              "    <tr>\n",
              "      <th>2015-02-20</th>\n",
              "      <td>211.330002</td>\n",
              "      <td>208.729996</td>\n",
              "      <td>209.479996</td>\n",
              "      <td>211.240005</td>\n",
              "      <td>140896400.0</td>\n",
              "      <td>194.193375</td>\n",
              "    </tr>\n",
              "    <tr>\n",
              "      <th>2015-02-23</th>\n",
              "      <td>211.210007</td>\n",
              "      <td>210.479996</td>\n",
              "      <td>210.940002</td>\n",
              "      <td>211.210007</td>\n",
              "      <td>74411100.0</td>\n",
              "      <td>194.165817</td>\n",
              "    </tr>\n",
              "    <tr>\n",
              "      <th>2015-04-23</th>\n",
              "      <td>211.940002</td>\n",
              "      <td>210.009995</td>\n",
              "      <td>210.149994</td>\n",
              "      <td>211.160004</td>\n",
              "      <td>102585900.0</td>\n",
              "      <td>194.986145</td>\n",
              "    </tr>\n",
              "    <tr>\n",
              "      <th>2015-03-03</th>\n",
              "      <td>212.050003</td>\n",
              "      <td>210.080002</td>\n",
              "      <td>211.470001</td>\n",
              "      <td>211.119995</td>\n",
              "      <td>110325800.0</td>\n",
              "      <td>194.083038</td>\n",
              "    </tr>\n",
              "    <tr>\n",
              "      <th>2015-04-27</th>\n",
              "      <td>212.479996</td>\n",
              "      <td>210.539993</td>\n",
              "      <td>212.330002</td>\n",
              "      <td>210.770004</td>\n",
              "      <td>79358100.0</td>\n",
              "      <td>194.626022</td>\n",
              "    </tr>\n",
              "    <tr>\n",
              "      <th>2015-05-01</th>\n",
              "      <td>210.770004</td>\n",
              "      <td>209.279999</td>\n",
              "      <td>209.399994</td>\n",
              "      <td>210.720001</td>\n",
              "      <td>103399700.0</td>\n",
              "      <td>194.579849</td>\n",
              "    </tr>\n",
              "    <tr>\n",
              "      <th>2015-05-26</th>\n",
              "      <td>212.910004</td>\n",
              "      <td>210.199997</td>\n",
              "      <td>212.399994</td>\n",
              "      <td>210.699997</td>\n",
              "      <td>124308600.0</td>\n",
              "      <td>194.561401</td>\n",
              "    </tr>\n",
              "    <tr>\n",
              "      <th>2015-02-27</th>\n",
              "      <td>211.580002</td>\n",
              "      <td>210.600006</td>\n",
              "      <td>211.259995</td>\n",
              "      <td>210.660004</td>\n",
              "      <td>108076000.0</td>\n",
              "      <td>193.660187</td>\n",
              "    </tr>\n",
              "    <tr>\n",
              "      <th>2015-04-22</th>\n",
              "      <td>210.850006</td>\n",
              "      <td>208.899994</td>\n",
              "      <td>210.009995</td>\n",
              "      <td>210.630005</td>\n",
              "      <td>78264600.0</td>\n",
              "      <td>194.496765</td>\n",
              "    </tr>\n",
              "    <tr>\n",
              "      <th>2015-05-11</th>\n",
              "      <td>211.889999</td>\n",
              "      <td>210.520004</td>\n",
              "      <td>211.570007</td>\n",
              "      <td>210.610001</td>\n",
              "      <td>75708100.0</td>\n",
              "      <td>194.478302</td>\n",
              "    </tr>\n",
              "    <tr>\n",
              "      <th>2015-04-29</th>\n",
              "      <td>211.440002</td>\n",
              "      <td>209.600006</td>\n",
              "      <td>211.440002</td>\n",
              "      <td>210.570007</td>\n",
              "      <td>125684900.0</td>\n",
              "      <td>194.441315</td>\n",
              "    </tr>\n",
              "    <tr>\n",
              "      <th>2015-03-18</th>\n",
              "      <td>211.270004</td>\n",
              "      <td>206.619995</td>\n",
              "      <td>207.389999</td>\n",
              "      <td>210.460007</td>\n",
              "      <td>220171200.0</td>\n",
              "      <td>193.476303</td>\n",
              "    </tr>\n",
              "    <tr>\n",
              "      <th>2015-03-05</th>\n",
              "      <td>210.800003</td>\n",
              "      <td>209.850006</td>\n",
              "      <td>209.419998</td>\n",
              "      <td>210.460007</td>\n",
              "      <td>76873000.0</td>\n",
              "      <td>193.476303</td>\n",
              "    </tr>\n",
              "    <tr>\n",
              "      <th>...</th>\n",
              "      <td>...</td>\n",
              "      <td>...</td>\n",
              "      <td>...</td>\n",
              "      <td>...</td>\n",
              "      <td>...</td>\n",
              "      <td>...</td>\n",
              "    </tr>\n",
              "    <tr>\n",
              "      <th>2010-06-01</th>\n",
              "      <td>109.949997</td>\n",
              "      <td>107.370003</td>\n",
              "      <td>108.349998</td>\n",
              "      <td>107.529999</td>\n",
              "      <td>277909400.0</td>\n",
              "      <td>89.681236</td>\n",
              "    </tr>\n",
              "    <tr>\n",
              "      <th>2010-06-24</th>\n",
              "      <td>108.830002</td>\n",
              "      <td>107.139999</td>\n",
              "      <td>108.690002</td>\n",
              "      <td>107.419998</td>\n",
              "      <td>268523600.0</td>\n",
              "      <td>90.015755</td>\n",
              "    </tr>\n",
              "    <tr>\n",
              "      <th>2010-01-29</th>\n",
              "      <td>109.800003</td>\n",
              "      <td>107.220001</td>\n",
              "      <td>109.040001</td>\n",
              "      <td>107.389999</td>\n",
              "      <td>310677600.0</td>\n",
              "      <td>89.197174</td>\n",
              "    </tr>\n",
              "    <tr>\n",
              "      <th>2010-07-19</th>\n",
              "      <td>107.629997</td>\n",
              "      <td>106.220001</td>\n",
              "      <td>107.050003</td>\n",
              "      <td>107.290001</td>\n",
              "      <td>186709000.0</td>\n",
              "      <td>89.906822</td>\n",
              "    </tr>\n",
              "    <tr>\n",
              "      <th>2010-02-09</th>\n",
              "      <td>108.150002</td>\n",
              "      <td>106.269997</td>\n",
              "      <td>107.129997</td>\n",
              "      <td>107.220001</td>\n",
              "      <td>337820500.0</td>\n",
              "      <td>89.055992</td>\n",
              "    </tr>\n",
              "    <tr>\n",
              "      <th>2010-05-26</th>\n",
              "      <td>109.470001</td>\n",
              "      <td>106.849998</td>\n",
              "      <td>108.480003</td>\n",
              "      <td>107.169998</td>\n",
              "      <td>349719300.0</td>\n",
              "      <td>89.380997</td>\n",
              "    </tr>\n",
              "    <tr>\n",
              "      <th>2010-07-08</th>\n",
              "      <td>107.279999</td>\n",
              "      <td>105.910004</td>\n",
              "      <td>107.000000</td>\n",
              "      <td>107.160004</td>\n",
              "      <td>210842100.0</td>\n",
              "      <td>89.797874</td>\n",
              "    </tr>\n",
              "    <tr>\n",
              "      <th>2010-08-23</th>\n",
              "      <td>108.570000</td>\n",
              "      <td>107.070000</td>\n",
              "      <td>108.040001</td>\n",
              "      <td>107.120003</td>\n",
              "      <td>163490300.0</td>\n",
              "      <td>89.764359</td>\n",
              "    </tr>\n",
              "    <tr>\n",
              "      <th>2010-07-21</th>\n",
              "      <td>109.070000</td>\n",
              "      <td>106.629997</td>\n",
              "      <td>109.040001</td>\n",
              "      <td>107.070000</td>\n",
              "      <td>264527000.0</td>\n",
              "      <td>89.722443</td>\n",
              "    </tr>\n",
              "    <tr>\n",
              "      <th>2010-02-10</th>\n",
              "      <td>107.599998</td>\n",
              "      <td>106.110001</td>\n",
              "      <td>107.050003</td>\n",
              "      <td>107.010002</td>\n",
              "      <td>240511500.0</td>\n",
              "      <td>88.881561</td>\n",
              "    </tr>\n",
              "    <tr>\n",
              "      <th>2010-08-27</th>\n",
              "      <td>106.970001</td>\n",
              "      <td>104.309998</td>\n",
              "      <td>105.889999</td>\n",
              "      <td>106.860001</td>\n",
              "      <td>272649000.0</td>\n",
              "      <td>89.546501</td>\n",
              "    </tr>\n",
              "    <tr>\n",
              "      <th>2010-06-04</th>\n",
              "      <td>109.330002</td>\n",
              "      <td>106.459999</td>\n",
              "      <td>108.610001</td>\n",
              "      <td>106.820000</td>\n",
              "      <td>398475600.0</td>\n",
              "      <td>89.089104</td>\n",
              "    </tr>\n",
              "    <tr>\n",
              "      <th>2010-07-16</th>\n",
              "      <td>109.209999</td>\n",
              "      <td>106.449997</td>\n",
              "      <td>109.089996</td>\n",
              "      <td>106.660004</td>\n",
              "      <td>282693400.0</td>\n",
              "      <td>89.378914</td>\n",
              "    </tr>\n",
              "    <tr>\n",
              "      <th>2010-02-05</th>\n",
              "      <td>106.879997</td>\n",
              "      <td>104.580002</td>\n",
              "      <td>106.559998</td>\n",
              "      <td>106.660004</td>\n",
              "      <td>493585800.0</td>\n",
              "      <td>88.590858</td>\n",
              "    </tr>\n",
              "    <tr>\n",
              "      <th>2010-06-08</th>\n",
              "      <td>106.830002</td>\n",
              "      <td>104.650002</td>\n",
              "      <td>105.570000</td>\n",
              "      <td>106.620003</td>\n",
              "      <td>357774300.0</td>\n",
              "      <td>88.922279</td>\n",
              "    </tr>\n",
              "    <tr>\n",
              "      <th>2010-02-04</th>\n",
              "      <td>109.029999</td>\n",
              "      <td>106.419998</td>\n",
              "      <td>108.980003</td>\n",
              "      <td>106.440002</td>\n",
              "      <td>356715700.0</td>\n",
              "      <td>88.408119</td>\n",
              "    </tr>\n",
              "    <tr>\n",
              "      <th>2010-07-07</th>\n",
              "      <td>106.239998</td>\n",
              "      <td>103.019997</td>\n",
              "      <td>103.129997</td>\n",
              "      <td>106.110001</td>\n",
              "      <td>253769400.0</td>\n",
              "      <td>88.917999</td>\n",
              "    </tr>\n",
              "    <tr>\n",
              "      <th>2010-06-09</th>\n",
              "      <td>108.279999</td>\n",
              "      <td>105.599998</td>\n",
              "      <td>107.239998</td>\n",
              "      <td>106.050003</td>\n",
              "      <td>268023300.0</td>\n",
              "      <td>88.446915</td>\n",
              "    </tr>\n",
              "    <tr>\n",
              "      <th>2010-08-25</th>\n",
              "      <td>106.339996</td>\n",
              "      <td>104.290001</td>\n",
              "      <td>104.949997</td>\n",
              "      <td>105.940002</td>\n",
              "      <td>272234800.0</td>\n",
              "      <td>88.775536</td>\n",
              "    </tr>\n",
              "    <tr>\n",
              "      <th>2010-02-08</th>\n",
              "      <td>107.330002</td>\n",
              "      <td>105.809998</td>\n",
              "      <td>106.739998</td>\n",
              "      <td>105.889999</td>\n",
              "      <td>224166900.0</td>\n",
              "      <td>87.951279</td>\n",
              "    </tr>\n",
              "    <tr>\n",
              "      <th>2010-08-24</th>\n",
              "      <td>106.389999</td>\n",
              "      <td>104.970001</td>\n",
              "      <td>105.949997</td>\n",
              "      <td>105.529999</td>\n",
              "      <td>280677800.0</td>\n",
              "      <td>88.431953</td>\n",
              "    </tr>\n",
              "    <tr>\n",
              "      <th>2010-06-07</th>\n",
              "      <td>107.610001</td>\n",
              "      <td>105.410004</td>\n",
              "      <td>107.199997</td>\n",
              "      <td>105.489998</td>\n",
              "      <td>264609100.0</td>\n",
              "      <td>87.979843</td>\n",
              "    </tr>\n",
              "    <tr>\n",
              "      <th>2010-08-31</th>\n",
              "      <td>105.980003</td>\n",
              "      <td>104.489998</td>\n",
              "      <td>104.919998</td>\n",
              "      <td>105.309998</td>\n",
              "      <td>273933100.0</td>\n",
              "      <td>88.247597</td>\n",
              "    </tr>\n",
              "    <tr>\n",
              "      <th>2010-08-30</th>\n",
              "      <td>106.910004</td>\n",
              "      <td>105.300003</td>\n",
              "      <td>106.580002</td>\n",
              "      <td>105.309998</td>\n",
              "      <td>167238600.0</td>\n",
              "      <td>88.247597</td>\n",
              "    </tr>\n",
              "    <tr>\n",
              "      <th>2010-08-26</th>\n",
              "      <td>106.580002</td>\n",
              "      <td>104.879997</td>\n",
              "      <td>106.440002</td>\n",
              "      <td>105.230003</td>\n",
              "      <td>224439500.0</td>\n",
              "      <td>88.180565</td>\n",
              "    </tr>\n",
              "    <tr>\n",
              "      <th>2010-06-29</th>\n",
              "      <td>107.510002</td>\n",
              "      <td>103.550003</td>\n",
              "      <td>106.019997</td>\n",
              "      <td>104.209999</td>\n",
              "      <td>373649500.0</td>\n",
              "      <td>87.325821</td>\n",
              "    </tr>\n",
              "    <tr>\n",
              "      <th>2010-06-30</th>\n",
              "      <td>104.879997</td>\n",
              "      <td>102.879997</td>\n",
              "      <td>103.919998</td>\n",
              "      <td>103.220001</td>\n",
              "      <td>284101700.0</td>\n",
              "      <td>86.496239</td>\n",
              "    </tr>\n",
              "    <tr>\n",
              "      <th>2010-07-06</th>\n",
              "      <td>104.370003</td>\n",
              "      <td>101.879997</td>\n",
              "      <td>103.639999</td>\n",
              "      <td>102.870003</td>\n",
              "      <td>256935300.0</td>\n",
              "      <td>86.202934</td>\n",
              "    </tr>\n",
              "    <tr>\n",
              "      <th>2010-07-01</th>\n",
              "      <td>103.489998</td>\n",
              "      <td>101.129997</td>\n",
              "      <td>103.150002</td>\n",
              "      <td>102.760002</td>\n",
              "      <td>382924800.0</td>\n",
              "      <td>86.110779</td>\n",
              "    </tr>\n",
              "    <tr>\n",
              "      <th>2010-07-02</th>\n",
              "      <td>103.419998</td>\n",
              "      <td>101.620003</td>\n",
              "      <td>103.110001</td>\n",
              "      <td>102.199997</td>\n",
              "      <td>233385200.0</td>\n",
              "      <td>85.641502</td>\n",
              "    </tr>\n",
              "  </tbody>\n",
              "</table>\n",
              "<p>1359 rows × 6 columns</p>\n",
              "</div>"
            ],
            "text/plain": [
              "                  High         Low        Open       Close       Volume  \\\n",
              "Date                                                                      \n",
              "2015-05-21  213.750000  212.509995  212.710007  213.500000   64764600.0   \n",
              "2015-05-18  213.399994  212.160004  212.240005  213.100006   72785600.0   \n",
              "2015-05-19  213.570007  212.690002  213.240005  213.029999   72114600.0   \n",
              "2015-05-22  213.539993  212.910004  213.039993  212.990005   57433500.0   \n",
              "2015-05-20  213.779999  212.500000  213.149994  212.880005   76857500.0   \n",
              "2015-05-27  212.979996  210.759995  211.250000  212.699997   93214000.0   \n",
              "2015-05-28  212.589996  211.630005  212.330002  212.460007   74974600.0   \n",
              "2015-05-15  212.610001  211.860001  212.440002  212.440002   76510100.0   \n",
              "2015-05-14  212.320007  210.910004  211.240005  212.210007   95934000.0   \n",
              "2015-03-02  212.059998  210.720001  210.779999  211.990005   87491400.0   \n",
              "2015-02-24  212.050003  210.759995  211.119995  211.809998   70943200.0   \n",
              "2015-04-24  211.970001  211.110001  211.660004  211.649994   61327400.0   \n",
              "2015-02-25  212.240005  211.220001  211.660004  211.630005   73061700.0   \n",
              "2015-05-08  211.860001  210.779999  210.880005  211.619995  155877300.0   \n",
              "2015-04-28  211.500000  209.330002  210.740005  211.440002   86863500.0   \n",
              "2015-02-26  211.710007  210.649994  211.520004  211.380005   72697900.0   \n",
              "2015-05-04  212.020004  211.100006  211.229996  211.320007   70927200.0   \n",
              "2015-02-20  211.330002  208.729996  209.479996  211.240005  140896400.0   \n",
              "2015-02-23  211.210007  210.479996  210.940002  211.210007   74411100.0   \n",
              "2015-04-23  211.940002  210.009995  210.149994  211.160004  102585900.0   \n",
              "2015-03-03  212.050003  210.080002  211.470001  211.119995  110325800.0   \n",
              "2015-04-27  212.479996  210.539993  212.330002  210.770004   79358100.0   \n",
              "2015-05-01  210.770004  209.279999  209.399994  210.720001  103399700.0   \n",
              "2015-05-26  212.910004  210.199997  212.399994  210.699997  124308600.0   \n",
              "2015-02-27  211.580002  210.600006  211.259995  210.660004  108076000.0   \n",
              "2015-04-22  210.850006  208.899994  210.009995  210.630005   78264600.0   \n",
              "2015-05-11  211.889999  210.520004  211.570007  210.610001   75708100.0   \n",
              "2015-04-29  211.440002  209.600006  211.440002  210.570007  125684900.0   \n",
              "2015-03-18  211.270004  206.619995  207.389999  210.460007  220171200.0   \n",
              "2015-03-05  210.800003  209.850006  209.419998  210.460007   76873000.0   \n",
              "...                ...         ...         ...         ...          ...   \n",
              "2010-06-01  109.949997  107.370003  108.349998  107.529999  277909400.0   \n",
              "2010-06-24  108.830002  107.139999  108.690002  107.419998  268523600.0   \n",
              "2010-01-29  109.800003  107.220001  109.040001  107.389999  310677600.0   \n",
              "2010-07-19  107.629997  106.220001  107.050003  107.290001  186709000.0   \n",
              "2010-02-09  108.150002  106.269997  107.129997  107.220001  337820500.0   \n",
              "2010-05-26  109.470001  106.849998  108.480003  107.169998  349719300.0   \n",
              "2010-07-08  107.279999  105.910004  107.000000  107.160004  210842100.0   \n",
              "2010-08-23  108.570000  107.070000  108.040001  107.120003  163490300.0   \n",
              "2010-07-21  109.070000  106.629997  109.040001  107.070000  264527000.0   \n",
              "2010-02-10  107.599998  106.110001  107.050003  107.010002  240511500.0   \n",
              "2010-08-27  106.970001  104.309998  105.889999  106.860001  272649000.0   \n",
              "2010-06-04  109.330002  106.459999  108.610001  106.820000  398475600.0   \n",
              "2010-07-16  109.209999  106.449997  109.089996  106.660004  282693400.0   \n",
              "2010-02-05  106.879997  104.580002  106.559998  106.660004  493585800.0   \n",
              "2010-06-08  106.830002  104.650002  105.570000  106.620003  357774300.0   \n",
              "2010-02-04  109.029999  106.419998  108.980003  106.440002  356715700.0   \n",
              "2010-07-07  106.239998  103.019997  103.129997  106.110001  253769400.0   \n",
              "2010-06-09  108.279999  105.599998  107.239998  106.050003  268023300.0   \n",
              "2010-08-25  106.339996  104.290001  104.949997  105.940002  272234800.0   \n",
              "2010-02-08  107.330002  105.809998  106.739998  105.889999  224166900.0   \n",
              "2010-08-24  106.389999  104.970001  105.949997  105.529999  280677800.0   \n",
              "2010-06-07  107.610001  105.410004  107.199997  105.489998  264609100.0   \n",
              "2010-08-31  105.980003  104.489998  104.919998  105.309998  273933100.0   \n",
              "2010-08-30  106.910004  105.300003  106.580002  105.309998  167238600.0   \n",
              "2010-08-26  106.580002  104.879997  106.440002  105.230003  224439500.0   \n",
              "2010-06-29  107.510002  103.550003  106.019997  104.209999  373649500.0   \n",
              "2010-06-30  104.879997  102.879997  103.919998  103.220001  284101700.0   \n",
              "2010-07-06  104.370003  101.879997  103.639999  102.870003  256935300.0   \n",
              "2010-07-01  103.489998  101.129997  103.150002  102.760002  382924800.0   \n",
              "2010-07-02  103.419998  101.620003  103.110001  102.199997  233385200.0   \n",
              "\n",
              "             Adj Close  \n",
              "Date                    \n",
              "2015-05-21  197.146927  \n",
              "2015-05-18  196.777573  \n",
              "2015-05-19  196.712906  \n",
              "2015-05-22  196.675980  \n",
              "2015-05-20  196.574402  \n",
              "2015-05-27  196.408203  \n",
              "2015-05-28  196.186539  \n",
              "2015-05-15  196.168091  \n",
              "2015-05-14  195.955719  \n",
              "2015-03-02  194.882874  \n",
              "2015-02-24  194.717361  \n",
              "2015-04-24  195.438599  \n",
              "2015-02-25  194.551895  \n",
              "2015-05-08  195.410919  \n",
              "2015-04-28  195.244736  \n",
              "2015-02-26  194.322052  \n",
              "2015-05-04  195.133881  \n",
              "2015-02-20  194.193375  \n",
              "2015-02-23  194.165817  \n",
              "2015-04-23  194.986145  \n",
              "2015-03-03  194.083038  \n",
              "2015-04-27  194.626022  \n",
              "2015-05-01  194.579849  \n",
              "2015-05-26  194.561401  \n",
              "2015-02-27  193.660187  \n",
              "2015-04-22  194.496765  \n",
              "2015-05-11  194.478302  \n",
              "2015-04-29  194.441315  \n",
              "2015-03-18  193.476303  \n",
              "2015-03-05  193.476303  \n",
              "...                ...  \n",
              "2010-06-01   89.681236  \n",
              "2010-06-24   90.015755  \n",
              "2010-01-29   89.197174  \n",
              "2010-07-19   89.906822  \n",
              "2010-02-09   89.055992  \n",
              "2010-05-26   89.380997  \n",
              "2010-07-08   89.797874  \n",
              "2010-08-23   89.764359  \n",
              "2010-07-21   89.722443  \n",
              "2010-02-10   88.881561  \n",
              "2010-08-27   89.546501  \n",
              "2010-06-04   89.089104  \n",
              "2010-07-16   89.378914  \n",
              "2010-02-05   88.590858  \n",
              "2010-06-08   88.922279  \n",
              "2010-02-04   88.408119  \n",
              "2010-07-07   88.917999  \n",
              "2010-06-09   88.446915  \n",
              "2010-08-25   88.775536  \n",
              "2010-02-08   87.951279  \n",
              "2010-08-24   88.431953  \n",
              "2010-06-07   87.979843  \n",
              "2010-08-31   88.247597  \n",
              "2010-08-30   88.247597  \n",
              "2010-08-26   88.180565  \n",
              "2010-06-29   87.325821  \n",
              "2010-06-30   86.496239  \n",
              "2010-07-06   86.202934  \n",
              "2010-07-01   86.110779  \n",
              "2010-07-02   85.641502  \n",
              "\n",
              "[1359 rows x 6 columns]"
            ]
          },
          "metadata": {
            "tags": []
          },
          "execution_count": 99
        }
      ]
    },
    {
      "cell_type": "code",
      "metadata": {
        "ExecuteTime": {
          "end_time": "2019-05-18T19:13:56.415647Z",
          "start_time": "2019-05-18T19:13:56.399645Z"
        },
        "id": "QuMEl-oNfSQD",
        "colab_type": "code",
        "colab": {},
        "outputId": "55271dda-03d1-4367-c697-c71ce5fe1344"
      },
      "source": [
        "df = df.reset_index()\n",
        "df.head()"
      ],
      "execution_count": 0,
      "outputs": [
        {
          "output_type": "execute_result",
          "data": {
            "text/html": [
              "<div>\n",
              "<style scoped>\n",
              "    .dataframe tbody tr th:only-of-type {\n",
              "        vertical-align: middle;\n",
              "    }\n",
              "\n",
              "    .dataframe tbody tr th {\n",
              "        vertical-align: top;\n",
              "    }\n",
              "\n",
              "    .dataframe thead th {\n",
              "        text-align: right;\n",
              "    }\n",
              "</style>\n",
              "<table border=\"1\" class=\"dataframe\">\n",
              "  <thead>\n",
              "    <tr style=\"text-align: right;\">\n",
              "      <th></th>\n",
              "      <th>Date</th>\n",
              "      <th>High</th>\n",
              "      <th>Low</th>\n",
              "      <th>Open</th>\n",
              "      <th>Close</th>\n",
              "      <th>Volume</th>\n",
              "      <th>Adj Close</th>\n",
              "    </tr>\n",
              "  </thead>\n",
              "  <tbody>\n",
              "    <tr>\n",
              "      <th>0</th>\n",
              "      <td>2010-01-04</td>\n",
              "      <td>113.389999</td>\n",
              "      <td>111.510002</td>\n",
              "      <td>112.370003</td>\n",
              "      <td>113.330002</td>\n",
              "      <td>118944600.0</td>\n",
              "      <td>94.130867</td>\n",
              "    </tr>\n",
              "    <tr>\n",
              "      <th>1</th>\n",
              "      <td>2010-01-05</td>\n",
              "      <td>113.680000</td>\n",
              "      <td>112.849998</td>\n",
              "      <td>113.260002</td>\n",
              "      <td>113.629997</td>\n",
              "      <td>111579900.0</td>\n",
              "      <td>94.380074</td>\n",
              "    </tr>\n",
              "    <tr>\n",
              "      <th>2</th>\n",
              "      <td>2010-01-06</td>\n",
              "      <td>113.989998</td>\n",
              "      <td>113.430000</td>\n",
              "      <td>113.519997</td>\n",
              "      <td>113.709999</td>\n",
              "      <td>116074400.0</td>\n",
              "      <td>94.446495</td>\n",
              "    </tr>\n",
              "    <tr>\n",
              "      <th>3</th>\n",
              "      <td>2010-01-07</td>\n",
              "      <td>114.330002</td>\n",
              "      <td>113.180000</td>\n",
              "      <td>113.500000</td>\n",
              "      <td>114.190002</td>\n",
              "      <td>131091100.0</td>\n",
              "      <td>94.845207</td>\n",
              "    </tr>\n",
              "    <tr>\n",
              "      <th>4</th>\n",
              "      <td>2010-01-08</td>\n",
              "      <td>114.620003</td>\n",
              "      <td>113.660004</td>\n",
              "      <td>113.889999</td>\n",
              "      <td>114.570000</td>\n",
              "      <td>126402800.0</td>\n",
              "      <td>95.160805</td>\n",
              "    </tr>\n",
              "  </tbody>\n",
              "</table>\n",
              "</div>"
            ],
            "text/plain": [
              "        Date        High         Low        Open       Close       Volume  \\\n",
              "0 2010-01-04  113.389999  111.510002  112.370003  113.330002  118944600.0   \n",
              "1 2010-01-05  113.680000  112.849998  113.260002  113.629997  111579900.0   \n",
              "2 2010-01-06  113.989998  113.430000  113.519997  113.709999  116074400.0   \n",
              "3 2010-01-07  114.330002  113.180000  113.500000  114.190002  131091100.0   \n",
              "4 2010-01-08  114.620003  113.660004  113.889999  114.570000  126402800.0   \n",
              "\n",
              "   Adj Close  \n",
              "0  94.130867  \n",
              "1  94.380074  \n",
              "2  94.446495  \n",
              "3  94.845207  \n",
              "4  95.160805  "
            ]
          },
          "metadata": {
            "tags": []
          },
          "execution_count": 100
        }
      ]
    },
    {
      "cell_type": "markdown",
      "metadata": {
        "id": "WCVnOf2xfSQd",
        "colab_type": "text"
      },
      "source": [
        "# Moving average\n",
        "\n",
        "= \"the unweighted mean of the previous n data ...  An example of a simple equally weighted running mean for a n-day sample of closing price is the mean of the previous n days' closing prices. If those prices are p_M, p_{M-1},\\dots,p_{M-(n-1)} then the formula is\"\n",
        "\n",
        "http://en.wikipedia.org/wiki/Moving_average)\n",
        "\n",
        "For example, you want to use a 3-day moving average method. Then, the average of the first 3 days (Day1, Day2, Day3) becomes the prediction of Day 3.\n",
        "<img src=\"http://static.chandoo.org/img/n/calculate-moving-average.png\">"
      ]
    },
    {
      "cell_type": "code",
      "metadata": {
        "ExecuteTime": {
          "end_time": "2019-05-18T19:13:57.834818Z",
          "start_time": "2019-05-18T19:13:57.636269Z"
        },
        "id": "YIraF8Y-fSQg",
        "colab_type": "code",
        "colab": {},
        "outputId": "e8ca22ad-c4d8-4e8e-b779-4a145e6e6384"
      },
      "source": [
        "# chart a basic 50 period moving average of the closing price\n",
        "\n",
        "df['ma50'] = df['Close'].rolling(50).mean()\n",
        "plots = df[['Close', 'ma50']].plot(figsize=(15, 8))"
      ],
      "execution_count": 0,
      "outputs": [
        {
          "output_type": "display_data",
          "data": {
            "image/png": "[encoded data removed]",
            "text/plain": [
              "<Figure size 1080x576 with 1 Axes>"
            ]
          },
          "metadata": {
            "tags": [],
            "needs_background": "light"
          }
        }
      ]
    },
    {
      "cell_type": "markdown",
      "metadata": {
        "id": "JgoEHsg2fSQw",
        "colab_type": "text"
      },
      "source": [
        "# Regression analysis"
      ]
    },
    {
      "cell_type": "code",
      "metadata": {
        "ExecuteTime": {
          "end_time": "2019-05-18T19:14:01.909688Z",
          "start_time": "2019-05-18T19:14:01.897679Z"
        },
        "id": "14HZZ7jnfSQz",
        "colab_type": "code",
        "colab": {},
        "outputId": "65c02281-6b0f-40af-e9af-482b951eea2a"
      },
      "source": [
        "df.info()"
      ],
      "execution_count": 0,
      "outputs": [
        {
          "output_type": "stream",
          "text": [
            "<class 'pandas.core.frame.DataFrame'>\n",
            "RangeIndex: 1359 entries, 0 to 1358\n",
            "Data columns (total 8 columns):\n",
            "Date         1359 non-null datetime64[ns]\n",
            "High         1359 non-null float64\n",
            "Low          1359 non-null float64\n",
            "Open         1359 non-null float64\n",
            "Close        1359 non-null float64\n",
            "Volume       1359 non-null float64\n",
            "Adj Close    1359 non-null float64\n",
            "ma50         1310 non-null float64\n",
            "dtypes: datetime64[ns](1), float64(7)\n",
            "memory usage: 85.0 KB\n"
          ],
          "name": "stdout"
        }
      ]
    },
    {
      "cell_type": "code",
      "metadata": {
        "ExecuteTime": {
          "end_time": "2019-05-18T19:14:02.470461Z",
          "start_time": "2019-05-18T19:14:02.454464Z"
        },
        "id": "iA2XV5flfSRd",
        "colab_type": "code",
        "colab": {},
        "outputId": "3805fb8b-a509-4e26-b5b0-07ca58ae19ae"
      },
      "source": [
        "df['Time'] = range(1, 1+len(df))\n",
        "df.head()"
      ],
      "execution_count": 0,
      "outputs": [
        {
          "output_type": "execute_result",
          "data": {
            "text/html": [
              "<div>\n",
              "<style scoped>\n",
              "    .dataframe tbody tr th:only-of-type {\n",
              "        vertical-align: middle;\n",
              "    }\n",
              "\n",
              "    .dataframe tbody tr th {\n",
              "        vertical-align: top;\n",
              "    }\n",
              "\n",
              "    .dataframe thead th {\n",
              "        text-align: right;\n",
              "    }\n",
              "</style>\n",
              "<table border=\"1\" class=\"dataframe\">\n",
              "  <thead>\n",
              "    <tr style=\"text-align: right;\">\n",
              "      <th></th>\n",
              "      <th>Date</th>\n",
              "      <th>High</th>\n",
              "      <th>Low</th>\n",
              "      <th>Open</th>\n",
              "      <th>Close</th>\n",
              "      <th>Volume</th>\n",
              "      <th>Adj Close</th>\n",
              "      <th>ma50</th>\n",
              "      <th>Time</th>\n",
              "    </tr>\n",
              "  </thead>\n",
              "  <tbody>\n",
              "    <tr>\n",
              "      <th>0</th>\n",
              "      <td>2010-01-04</td>\n",
              "      <td>113.389999</td>\n",
              "      <td>111.510002</td>\n",
              "      <td>112.370003</td>\n",
              "      <td>113.330002</td>\n",
              "      <td>118944600.0</td>\n",
              "      <td>94.130867</td>\n",
              "      <td>NaN</td>\n",
              "      <td>1</td>\n",
              "    </tr>\n",
              "    <tr>\n",
              "      <th>1</th>\n",
              "      <td>2010-01-05</td>\n",
              "      <td>113.680000</td>\n",
              "      <td>112.849998</td>\n",
              "      <td>113.260002</td>\n",
              "      <td>113.629997</td>\n",
              "      <td>111579900.0</td>\n",
              "      <td>94.380074</td>\n",
              "      <td>NaN</td>\n",
              "      <td>2</td>\n",
              "    </tr>\n",
              "    <tr>\n",
              "      <th>2</th>\n",
              "      <td>2010-01-06</td>\n",
              "      <td>113.989998</td>\n",
              "      <td>113.430000</td>\n",
              "      <td>113.519997</td>\n",
              "      <td>113.709999</td>\n",
              "      <td>116074400.0</td>\n",
              "      <td>94.446495</td>\n",
              "      <td>NaN</td>\n",
              "      <td>3</td>\n",
              "    </tr>\n",
              "    <tr>\n",
              "      <th>3</th>\n",
              "      <td>2010-01-07</td>\n",
              "      <td>114.330002</td>\n",
              "      <td>113.180000</td>\n",
              "      <td>113.500000</td>\n",
              "      <td>114.190002</td>\n",
              "      <td>131091100.0</td>\n",
              "      <td>94.845207</td>\n",
              "      <td>NaN</td>\n",
              "      <td>4</td>\n",
              "    </tr>\n",
              "    <tr>\n",
              "      <th>4</th>\n",
              "      <td>2010-01-08</td>\n",
              "      <td>114.620003</td>\n",
              "      <td>113.660004</td>\n",
              "      <td>113.889999</td>\n",
              "      <td>114.570000</td>\n",
              "      <td>126402800.0</td>\n",
              "      <td>95.160805</td>\n",
              "      <td>NaN</td>\n",
              "      <td>5</td>\n",
              "    </tr>\n",
              "  </tbody>\n",
              "</table>\n",
              "</div>"
            ],
            "text/plain": [
              "        Date        High         Low        Open       Close       Volume  \\\n",
              "0 2010-01-04  113.389999  111.510002  112.370003  113.330002  118944600.0   \n",
              "1 2010-01-05  113.680000  112.849998  113.260002  113.629997  111579900.0   \n",
              "2 2010-01-06  113.989998  113.430000  113.519997  113.709999  116074400.0   \n",
              "3 2010-01-07  114.330002  113.180000  113.500000  114.190002  131091100.0   \n",
              "4 2010-01-08  114.620003  113.660004  113.889999  114.570000  126402800.0   \n",
              "\n",
              "   Adj Close  ma50  Time  \n",
              "0  94.130867   NaN     1  \n",
              "1  94.380074   NaN     2  \n",
              "2  94.446495   NaN     3  \n",
              "3  94.845207   NaN     4  \n",
              "4  95.160805   NaN     5  "
            ]
          },
          "metadata": {
            "tags": []
          },
          "execution_count": 103
        }
      ]
    },
    {
      "cell_type": "code",
      "metadata": {
        "ExecuteTime": {
          "end_time": "2019-05-18T19:14:03.300427Z",
          "start_time": "2019-05-18T19:14:03.292428Z"
        },
        "id": "AAR4QrrwfSR1",
        "colab_type": "code",
        "colab": {}
      },
      "source": [
        "#univariate linear regression ... predicting Y value with one X variable\n",
        "#in this example, Closing price is Y value and Time is considered a X variable\n",
        "\n",
        "X = df[\"Time\"][:, np.newaxis]\n",
        "y = df[\"Close\"]"
      ],
      "execution_count": 0,
      "outputs": []
    },
    {
      "cell_type": "code",
      "metadata": {
        "ExecuteTime": {
          "end_time": "2019-05-18T19:14:03.968204Z",
          "start_time": "2019-05-18T19:14:03.956206Z"
        },
        "id": "Yjz56ZJGfSR_",
        "colab_type": "code",
        "colab": {},
        "outputId": "aa724921-0ea4-44b7-ddf3-5f78ee5d5fc1"
      },
      "source": [
        "#Time is the X variable \n",
        "\n",
        "X[:5]"
      ],
      "execution_count": 0,
      "outputs": [
        {
          "output_type": "execute_result",
          "data": {
            "text/plain": [
              "array([[1],\n",
              "       [2],\n",
              "       [3],\n",
              "       [4],\n",
              "       [5]])"
            ]
          },
          "metadata": {
            "tags": []
          },
          "execution_count": 105
        }
      ]
    },
    {
      "cell_type": "code",
      "metadata": {
        "ExecuteTime": {
          "end_time": "2019-05-18T19:14:04.591323Z",
          "start_time": "2019-05-18T19:14:04.579327Z"
        },
        "id": "y2M3UtBrfSSZ",
        "colab_type": "code",
        "colab": {},
        "outputId": "969503f4-ff35-4e2e-d6f4-803141d35932"
      },
      "source": [
        "#without split validation\n",
        "lr = linear_model.LinearRegression()\n",
        "\n",
        "lr.fit(X, y)\n",
        "\n",
        "lr.predict(X)"
      ],
      "execution_count": 0,
      "outputs": [
        {
          "output_type": "execute_result",
          "data": {
            "text/plain": [
              "array([ 98.0852643 ,  98.16453123,  98.24379815, ..., 205.57121297,\n",
              "       205.65047989, 205.72974682])"
            ]
          },
          "metadata": {
            "tags": []
          },
          "execution_count": 106
        }
      ]
    },
    {
      "cell_type": "code",
      "metadata": {
        "ExecuteTime": {
          "end_time": "2019-05-18T19:14:05.432037Z",
          "start_time": "2019-05-18T19:14:05.147420Z"
        },
        "id": "Sj3_E663fSTD",
        "colab_type": "code",
        "colab": {},
        "outputId": "f9b8d302-b406-4e04-b5d2-9ff62746f0be"
      },
      "source": [
        "plt.figure(figsize=(15,8))\n",
        "plt.plot(X, y)\n",
        "plt.plot(X, lr.predict(X), color='red', linewidth=3)"
      ],
      "execution_count": 0,
      "outputs": [
        {
          "output_type": "execute_result",
          "data": {
            "text/plain": [
              "[<matplotlib.lines.Line2D at 0x252a1eb8a90>]"
            ]
          },
          "metadata": {
            "tags": []
          },
          "execution_count": 107
        },
        {
          "output_type": "display_data",
          "data": {
            "image/png": "[encoded data removed]",
            "text/plain": [
              "<Figure size 1080x576 with 1 Axes>"
            ]
          },
          "metadata": {
            "tags": [],
            "needs_background": "light"
          }
        }
      ]
    },
    {
      "cell_type": "code",
      "metadata": {
        "ExecuteTime": {
          "end_time": "2019-05-18T19:14:12.368398Z",
          "start_time": "2019-05-18T19:14:12.360395Z"
        },
        "id": "capGgbHKfSTP",
        "colab_type": "code",
        "colab": {},
        "outputId": "3fc09b86-a62a-42bb-8493-b47a11daff8d"
      },
      "source": [
        "# The coefficients\n",
        "print(\"Coefficients \", lr.coef_)\n",
        "print(\"y-intercept \", lr.intercept_)\n",
        "\n",
        "# The mean square error\n",
        "print((\"Residual sum of squares: %.2f\"\n",
        "      % np.mean((lr.predict(X) - y) ** 2)))\n",
        "# Explained variance score: 1 is perfect prediction\n",
        "print(('Variance score: %.2f' % lr.score(X, y)))"
      ],
      "execution_count": 0,
      "outputs": [
        {
          "output_type": "stream",
          "text": [
            "Coefficients  [0.07926692]\n",
            "y-intercept  98.0059973782914\n",
            "Residual sum of squares: 74.30\n",
            "Variance score: 0.93\n"
          ],
          "name": "stdout"
        }
      ]
    },
    {
      "cell_type": "markdown",
      "metadata": {
        "id": "j1TPKMpGfSTb",
        "colab_type": "text"
      },
      "source": [
        "You can use the following **linear equation to predict the future**\n",
        "\n",
        "**Y = 0.079245X + 98.015931**"
      ]
    },
    {
      "cell_type": "markdown",
      "metadata": {
        "id": "Tol_8IvKfSTf",
        "colab_type": "text"
      },
      "source": [
        "```Note```: This model is NOT for predicting the future ... this shows just a trend in the data ... since the data is **autocorrelated** meaning that t-1 predicts t."
      ]
    },
    {
      "cell_type": "code",
      "metadata": {
        "ExecuteTime": {
          "end_time": "2019-05-18T19:14:14.480650Z",
          "start_time": "2019-05-18T19:14:14.460636Z"
        },
        "id": "mJhdoVhMfSTh",
        "colab_type": "code",
        "colab": {},
        "outputId": "6d0c3a2b-1025-4be2-9cec-3193d4f95c95"
      },
      "source": [
        "df.head()"
      ],
      "execution_count": 0,
      "outputs": [
        {
          "output_type": "execute_result",
          "data": {
            "text/html": [
              "<div>\n",
              "<style scoped>\n",
              "    .dataframe tbody tr th:only-of-type {\n",
              "        vertical-align: middle;\n",
              "    }\n",
              "\n",
              "    .dataframe tbody tr th {\n",
              "        vertical-align: top;\n",
              "    }\n",
              "\n",
              "    .dataframe thead th {\n",
              "        text-align: right;\n",
              "    }\n",
              "</style>\n",
              "<table border=\"1\" class=\"dataframe\">\n",
              "  <thead>\n",
              "    <tr style=\"text-align: right;\">\n",
              "      <th></th>\n",
              "      <th>Date</th>\n",
              "      <th>High</th>\n",
              "      <th>Low</th>\n",
              "      <th>Open</th>\n",
              "      <th>Close</th>\n",
              "      <th>Volume</th>\n",
              "      <th>Adj Close</th>\n",
              "      <th>ma50</th>\n",
              "      <th>Time</th>\n",
              "    </tr>\n",
              "  </thead>\n",
              "  <tbody>\n",
              "    <tr>\n",
              "      <th>0</th>\n",
              "      <td>2010-01-04</td>\n",
              "      <td>113.389999</td>\n",
              "      <td>111.510002</td>\n",
              "      <td>112.370003</td>\n",
              "      <td>113.330002</td>\n",
              "      <td>118944600.0</td>\n",
              "      <td>94.130867</td>\n",
              "      <td>NaN</td>\n",
              "      <td>1</td>\n",
              "    </tr>\n",
              "    <tr>\n",
              "      <th>1</th>\n",
              "      <td>2010-01-05</td>\n",
              "      <td>113.680000</td>\n",
              "      <td>112.849998</td>\n",
              "      <td>113.260002</td>\n",
              "      <td>113.629997</td>\n",
              "      <td>111579900.0</td>\n",
              "      <td>94.380074</td>\n",
              "      <td>NaN</td>\n",
              "      <td>2</td>\n",
              "    </tr>\n",
              "    <tr>\n",
              "      <th>2</th>\n",
              "      <td>2010-01-06</td>\n",
              "      <td>113.989998</td>\n",
              "      <td>113.430000</td>\n",
              "      <td>113.519997</td>\n",
              "      <td>113.709999</td>\n",
              "      <td>116074400.0</td>\n",
              "      <td>94.446495</td>\n",
              "      <td>NaN</td>\n",
              "      <td>3</td>\n",
              "    </tr>\n",
              "    <tr>\n",
              "      <th>3</th>\n",
              "      <td>2010-01-07</td>\n",
              "      <td>114.330002</td>\n",
              "      <td>113.180000</td>\n",
              "      <td>113.500000</td>\n",
              "      <td>114.190002</td>\n",
              "      <td>131091100.0</td>\n",
              "      <td>94.845207</td>\n",
              "      <td>NaN</td>\n",
              "      <td>4</td>\n",
              "    </tr>\n",
              "    <tr>\n",
              "      <th>4</th>\n",
              "      <td>2010-01-08</td>\n",
              "      <td>114.620003</td>\n",
              "      <td>113.660004</td>\n",
              "      <td>113.889999</td>\n",
              "      <td>114.570000</td>\n",
              "      <td>126402800.0</td>\n",
              "      <td>95.160805</td>\n",
              "      <td>NaN</td>\n",
              "      <td>5</td>\n",
              "    </tr>\n",
              "  </tbody>\n",
              "</table>\n",
              "</div>"
            ],
            "text/plain": [
              "        Date        High         Low        Open       Close       Volume  \\\n",
              "0 2010-01-04  113.389999  111.510002  112.370003  113.330002  118944600.0   \n",
              "1 2010-01-05  113.680000  112.849998  113.260002  113.629997  111579900.0   \n",
              "2 2010-01-06  113.989998  113.430000  113.519997  113.709999  116074400.0   \n",
              "3 2010-01-07  114.330002  113.180000  113.500000  114.190002  131091100.0   \n",
              "4 2010-01-08  114.620003  113.660004  113.889999  114.570000  126402800.0   \n",
              "\n",
              "   Adj Close  ma50  Time  \n",
              "0  94.130867   NaN     1  \n",
              "1  94.380074   NaN     2  \n",
              "2  94.446495   NaN     3  \n",
              "3  94.845207   NaN     4  \n",
              "4  95.160805   NaN     5  "
            ]
          },
          "metadata": {
            "tags": []
          },
          "execution_count": 109
        }
      ]
    },
    {
      "cell_type": "code",
      "metadata": {
        "ExecuteTime": {
          "end_time": "2019-05-18T19:14:15.330584Z",
          "start_time": "2019-05-18T19:14:15.322580Z"
        },
        "id": "RcnDwKqvfSTv",
        "colab_type": "code",
        "colab": {}
      },
      "source": [
        "df['Close-1'] = df['Close'].shift(-1) "
      ],
      "execution_count": 0,
      "outputs": []
    },
    {
      "cell_type": "code",
      "metadata": {
        "ExecuteTime": {
          "end_time": "2019-05-18T19:14:16.677108Z",
          "start_time": "2019-05-18T19:14:16.474338Z"
        },
        "id": "m8LCkmsPfST3",
        "colab_type": "code",
        "colab": {},
        "outputId": "27e6a1a7-e023-47af-af6c-a51caa9f3565"
      },
      "source": [
        "plt.figure(figsize=(15,8))\n",
        "plt.plot(X, y)\n",
        "plt.plot(X, lr.predict(X), color='red', linewidth=3)"
      ],
      "execution_count": 0,
      "outputs": [
        {
          "output_type": "execute_result",
          "data": {
            "text/plain": [
              "[<matplotlib.lines.Line2D at 0x252a19df1d0>]"
            ]
          },
          "metadata": {
            "tags": []
          },
          "execution_count": 111
        },
        {
          "output_type": "display_data",
          "data": {
            "image/png": "[encoded data removed]",
            "text/plain": [
              "<Figure size 1080x576 with 1 Axes>"
            ]
          },
          "metadata": {
            "tags": [],
            "needs_background": "light"
          }
        }
      ]
    },
    {
      "cell_type": "code",
      "metadata": {
        "ExecuteTime": {
          "end_time": "2019-05-18T19:15:59.381888Z",
          "start_time": "2019-05-18T19:15:59.365881Z"
        },
        "id": "Xtzlr5NtfSUJ",
        "colab_type": "code",
        "colab": {},
        "outputId": "e06ed727-1245-49b8-ebf7-9c20c378486e"
      },
      "source": [
        "df1 = df[['Time', 'Close']]\n",
        "df1.head()"
      ],
      "execution_count": 0,
      "outputs": [
        {
          "output_type": "execute_result",
          "data": {
            "text/html": [
              "<div>\n",
              "<style scoped>\n",
              "    .dataframe tbody tr th:only-of-type {\n",
              "        vertical-align: middle;\n",
              "    }\n",
              "\n",
              "    .dataframe tbody tr th {\n",
              "        vertical-align: top;\n",
              "    }\n",
              "\n",
              "    .dataframe thead th {\n",
              "        text-align: right;\n",
              "    }\n",
              "</style>\n",
              "<table border=\"1\" class=\"dataframe\">\n",
              "  <thead>\n",
              "    <tr style=\"text-align: right;\">\n",
              "      <th></th>\n",
              "      <th>Time</th>\n",
              "      <th>Close</th>\n",
              "    </tr>\n",
              "  </thead>\n",
              "  <tbody>\n",
              "    <tr>\n",
              "      <th>0</th>\n",
              "      <td>1</td>\n",
              "      <td>113.330002</td>\n",
              "    </tr>\n",
              "    <tr>\n",
              "      <th>1</th>\n",
              "      <td>2</td>\n",
              "      <td>113.629997</td>\n",
              "    </tr>\n",
              "    <tr>\n",
              "      <th>2</th>\n",
              "      <td>3</td>\n",
              "      <td>113.709999</td>\n",
              "    </tr>\n",
              "    <tr>\n",
              "      <th>3</th>\n",
              "      <td>4</td>\n",
              "      <td>114.190002</td>\n",
              "    </tr>\n",
              "    <tr>\n",
              "      <th>4</th>\n",
              "      <td>5</td>\n",
              "      <td>114.570000</td>\n",
              "    </tr>\n",
              "  </tbody>\n",
              "</table>\n",
              "</div>"
            ],
            "text/plain": [
              "   Time       Close\n",
              "0     1  113.330002\n",
              "1     2  113.629997\n",
              "2     3  113.709999\n",
              "3     4  114.190002\n",
              "4     5  114.570000"
            ]
          },
          "metadata": {
            "tags": []
          },
          "execution_count": 112
        }
      ]
    },
    {
      "cell_type": "code",
      "metadata": {
        "ExecuteTime": {
          "end_time": "2019-05-18T19:16:51.803777Z",
          "start_time": "2019-05-18T19:16:51.791784Z"
        },
        "id": "JoYOzvpofSUb",
        "colab_type": "code",
        "colab": {},
        "outputId": "5cb502fb-c828-41af-e179-3dfab5f26e95"
      },
      "source": [
        "# split into train and test sets\n",
        "#df = df.astype('float32')\n",
        "values = df1.values\n",
        "print(values.shape)\n",
        "\n",
        "n_train_hours = 1000\n",
        "train = values[:n_train_hours, :]\n",
        "test = values[n_train_hours:, :]\n",
        "\n",
        "# split into input and outputs\n",
        "train_X, train_y = train[:, 1:], train[:, :1]\n",
        "test_X, test_y = test[:, 1:], test[:, :1]\n",
        "\n",
        "# reshape input to be 3D [samples, timesteps, features]\n",
        "#train_X = train_X.reshape((train_X.shape[0], 1, train_X.shape[1]))\n",
        "#test_X = test_X.reshape((test_X.shape[0], 1, test_X.shape[1]))\n",
        "print(train_X.shape, train_y.shape, test_X.shape, test_y.shape)"
      ],
      "execution_count": 0,
      "outputs": [
        {
          "output_type": "stream",
          "text": [
            "(1359, 2)\n",
            "(1000, 1) (1000, 1) (359, 1) (359, 1)\n"
          ],
          "name": "stdout"
        }
      ]
    },
    {
      "cell_type": "code",
      "metadata": {
        "ExecuteTime": {
          "end_time": "2019-05-18T19:17:10.772760Z",
          "start_time": "2019-05-18T19:17:10.615595Z"
        },
        "id": "lmIwOIOYfSUn",
        "colab_type": "code",
        "colab": {},
        "outputId": "faf0519f-4ec4-4647-c6a2-c16b9feb18c3"
      },
      "source": [
        "rf_model = RandomForestRegressor(n_estimators = 100, random_state = 42)\n",
        "rf_model.fit(train_X, train_y)\n",
        "y_pred = rf_model.predict(test_X)\n",
        "rf_model_accuracy = mean_absolute_error(test_y, y_pred)\n",
        "rf_model_accuracy"
      ],
      "execution_count": 0,
      "outputs": [
        {
          "output_type": "stream",
          "text": [
            "C:\\Anaconda\\envs\\py36\\lib\\site-packages\\ipykernel_launcher.py:2: DataConversionWarning: A column-vector y was passed when a 1d array was expected. Please change the shape of y to (n_samples,), for example using ravel().\n",
            "  \n"
          ],
          "name": "stderr"
        },
        {
          "output_type": "execute_result",
          "data": {
            "text/plain": [
              "182.40175487465183"
            ]
          },
          "metadata": {
            "tags": []
          },
          "execution_count": 114
        }
      ]
    },
    {
      "cell_type": "code",
      "metadata": {
        "ExecuteTime": {
          "end_time": "2019-05-18T19:17:22.139670Z",
          "start_time": "2019-05-18T19:17:22.003672Z"
        },
        "id": "yy-er3GQfSVN",
        "colab_type": "code",
        "colab": {},
        "outputId": "e9469a85-2cb0-4635-9c90-5bf8fb0f4fbf"
      },
      "source": [
        "plt.plot(test_y)\n",
        "plt.plot(y_pred, color='red', linewidth=3)\n",
        "plt.show()"
      ],
      "execution_count": 0,
      "outputs": [
        {
          "output_type": "display_data",
          "data": {
            "image/png": "[encoded data removed]",
            "text/plain": [
              "<Figure size 432x288 with 1 Axes>"
            ]
          },
          "metadata": {
            "tags": [],
            "needs_background": "light"
          }
        }
      ]
    },
    {
      "cell_type": "code",
      "metadata": {
        "ExecuteTime": {
          "end_time": "2019-05-18T19:17:39.567032Z",
          "start_time": "2019-05-18T19:17:39.435010Z"
        },
        "id": "u1kqoZt1fSVk",
        "colab_type": "code",
        "colab": {},
        "outputId": "0ae2e4d7-120a-41d1-8e8e-591b0adf7ac6"
      },
      "source": [
        "plt.plot(train_y)\n",
        "plt.plot([None for i in train_y] + [x for x in test_y])\n",
        "plt.plot([None for i in train_y] + [x for x in y_pred], color='red', linewidth=3)\n",
        "plt.show()"
      ],
      "execution_count": 0,
      "outputs": [
        {
          "output_type": "display_data",
          "data": {
            "image/png": "[encoded data removed]",
            "text/plain": [
              "<Figure size 432x288 with 1 Axes>"
            ]
          },
          "metadata": {
            "tags": [],
            "needs_background": "light"
          }
        }
      ]
    },
    {
      "cell_type": "code",
      "metadata": {
        "id": "xqRliBApfSV0",
        "colab_type": "code",
        "colab": {}
      },
      "source": [
        ""
      ],
      "execution_count": 0,
      "outputs": []
    }
  ]
}