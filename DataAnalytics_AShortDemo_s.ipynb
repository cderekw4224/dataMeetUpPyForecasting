{
  "nbformat": 4,
  "nbformat_minor": 0,
  "metadata": {
    "colab": {
      "name": "DataAnalytics_AShortDemo_s.ipynb",
      "version": "0.3.2",
      "provenance": [],
      "include_colab_link": true
    },
    "kernelspec": {
      "name": "python3",
      "display_name": "Python 3"
    },
    "accelerator": "GPU"
  },
  "cells": [
    {
      "cell_type": "markdown",
      "metadata": {
        "id": "view-in-github",
        "colab_type": "text"
      },
      "source": [
        "<a href=\"https://colab.research.google.com/github/cderekw4224/dataMeetUpPyForecasting/blob/master/DataAnalytics_AShortDemo_s.ipynb\" target=\"_parent\"><img src=\"https://colab.research.google.com/assets/colab-badge.svg\" alt=\"Open In Colab\"/></a>"
      ]
    },
    {
      "cell_type": "markdown",
      "metadata": {
        "id": "qMFk1quWZ7oB",
        "colab_type": "text"
      },
      "source": [
        "# A Short Demo: Capture --> Business Intelligence --> Predictive Analytics (20 minutes)"
      ]
    },
    {
      "cell_type": "markdown",
      "metadata": {
        "id": "qV73KqYxa4Dx",
        "colab_type": "text"
      },
      "source": [
        "# Capture"
      ]
    },
    {
      "cell_type": "markdown",
      "metadata": {
        "id": "EkhZMVpBY9f1",
        "colab_type": "text"
      },
      "source": [
        "#### Most Voted Feature Films Released 1950-01-01 to 2012-12-31\n",
        "\n",
        "https://www.imdb.com/search/title?at=0&sort=num_votes,desc&start=1&title_type=feature&year=1950,2012    "
      ]
    },
    {
      "cell_type": "markdown",
      "metadata": {
        "id": "7t2HDqxKavM9",
        "colab_type": "text"
      },
      "source": [
        "Import Python packages"
      ]
    },
    {
      "cell_type": "code",
      "metadata": {
        "id": "0L6VkGDHY9f2",
        "colab_type": "code",
        "colab": {}
      },
      "source": [
        "import requests\n",
        "from lxml import html\n",
        "import csv\n",
        "import pandas as pd"
      ],
      "execution_count": 0,
      "outputs": []
    },
    {
      "cell_type": "code",
      "metadata": {
        "colab_type": "code",
        "id": "dQVSg4hOaa32",
        "colab": {
          "base_uri": "https://localhost:8080/",
          "height": 857
        },
        "outputId": "2291a85b-45bd-4a63-9dca-119d9d0fe13e"
      },
      "source": [
        "r = requests.get('http://www.imdb.com/search/title?at=0&sort=num_votes,desc&start=1&title_type=feature&year=1950,2012')\n",
        "data = html.fromstring(r.text)\n",
        "\n",
        "# Xpath\n",
        "\n",
        "for i in data.xpath(\"//div[@class='lister-item-content']\"):\n",
        "    title = i.xpath('h3/a/text()') \n",
        "    url = i.xpath('h3/a/@href')       \n",
        "    year = i.xpath('h3/span[2]/text()')   \n",
        "    length = i.xpath(\"p[1]/span[3]/text()\")\n",
        "    print(title, url, year, length)   "
      ],
      "execution_count": 2,
      "outputs": [
        {
          "output_type": "stream",
          "text": [
            "['The Shawshank Redemption'] ['/title/tt0111161/'] ['(1994)'] ['142 min']\n",
            "['The Dark Knight'] ['/title/tt0468569/'] ['(2008)'] ['152 min']\n",
            "['Inception'] ['/title/tt1375666/'] ['(2010)'] ['148 min']\n",
            "['Fight Club'] ['/title/tt0137523/'] ['(1999)'] ['139 min']\n",
            "['Pulp Fiction'] ['/title/tt0110912/'] ['(1994)'] ['154 min']\n",
            "['Forrest Gump'] ['/title/tt0109830/'] ['(1994)'] ['142 min']\n",
            "['The Lord of the Rings: The Fellowship of the Ring'] ['/title/tt0120737/'] ['(2001)'] ['178 min']\n",
            "['The Matrix'] ['/title/tt0133093/'] ['(1999)'] ['136 min']\n",
            "['The Lord of the Rings: The Return of the King'] ['/title/tt0167260/'] ['(2003)'] ['201 min']\n",
            "['The Godfather'] ['/title/tt0068646/'] ['(1972)'] ['175 min']\n",
            "['The Dark Knight Rises'] ['/title/tt1345836/'] ['(2012)'] ['164 min']\n",
            "['The Lord of the Rings: The Two Towers'] ['/title/tt0167261/'] ['(2002)'] ['179 min']\n",
            "['Se7en'] ['/title/tt0114369/'] ['(1995)'] ['127 min']\n",
            "['Gladiator'] ['/title/tt0172495/'] ['(2000)'] ['155 min']\n",
            "['Django Unchained'] ['/title/tt1853728/'] ['(2012)'] ['165 min']\n",
            "['Batman Begins'] ['/title/tt0372784/'] ['(2005)'] ['140 min']\n",
            "['The Avengers'] ['/title/tt0848228/'] ['(2012)'] ['143 min']\n",
            "['The Silence of the Lambs'] ['/title/tt0102926/'] ['(1991)'] ['118 min']\n",
            "['Star Wars: Episode IV - A New Hope'] ['/title/tt0076759/'] ['(1977)'] ['121 min']\n",
            "['Inglourious Basterds'] ['/title/tt0361748/'] ['(2009)'] ['153 min']\n",
            "['Saving Private Ryan'] ['/title/tt0120815/'] ['(1998)'] ['169 min']\n",
            "[\"Schindler's List\"] ['/title/tt0108052/'] ['(1993)'] ['195 min']\n",
            "['The Departed'] ['/title/tt0407887/'] ['(2006)'] ['151 min']\n",
            "['The Prestige'] ['/title/tt0482571/'] ['(2006)'] ['130 min']\n",
            "['Star Wars: Episode V - The Empire Strikes Back'] ['/title/tt0080684/'] ['(1980)'] ['124 min']\n",
            "['Avatar'] ['/title/tt0499549/'] ['(2009)'] ['162 min']\n",
            "['Memento'] ['/title/tt0209144/'] ['(2000)'] ['113 min']\n",
            "['The Green Mile'] ['/title/tt0120689/'] ['(1999)'] ['189 min']\n",
            "['Shutter Island'] ['/title/tt1130884/'] ['(2010)'] ['138 min']\n",
            "['The Godfather: Part II'] ['/title/tt0071562/'] ['(1974)'] ['202 min']\n",
            "['American Beauty'] ['/title/tt0169547/'] ['(1999)'] ['122 min']\n",
            "['Pirates of the Caribbean: The Curse of the Black Pearl'] ['/title/tt0325980/'] ['(2003)'] ['143 min']\n",
            "['Titanic'] ['/title/tt0120338/'] ['(1997)'] ['194 min']\n",
            "['V for Vendetta'] ['/title/tt0434409/'] ['(2005)'] ['132 min']\n",
            "['American History X'] ['/title/tt0120586/'] ['(1998)'] ['119 min']\n",
            "['Back to the Future'] ['/title/tt0088763/'] ['(1985)'] ['116 min']\n",
            "['Léon: The Professional'] ['/title/tt0110413/'] ['(1994)'] ['110 min']\n",
            "['Terminator 2: Judgment Day'] ['/title/tt0103064/'] ['(1991)'] ['137 min']\n",
            "['The Usual Suspects'] ['/title/tt0114814/'] ['(1995)'] ['106 min']\n",
            "['Kill Bill: Vol. 1'] ['/title/tt0266697/'] ['(2003)'] ['111 min']\n",
            "['WALL·E'] ['/title/tt0910970/'] ['(2008)'] ['98 min']\n",
            "['Goodfellas'] ['/title/tt0099685/'] ['(1990)'] ['146 min']\n",
            "['Braveheart'] ['/title/tt0112573/'] ['(1995)'] ['178 min']\n",
            "['Finding Nemo'] ['/title/tt0266543/'] ['(2003)'] ['100 min']\n",
            "['Iron Man'] ['/title/tt0371746/'] ['(2008)'] ['126 min']\n",
            "['Star Wars: Episode VI - Return of the Jedi'] ['/title/tt0086190/'] ['(1983)'] ['131 min']\n",
            "['The Sixth Sense'] ['/title/tt0167404/'] ['(1999)'] ['107 min']\n",
            "['Up'] ['/title/tt1049413/'] ['(2009)'] ['96 min']\n",
            "['The Truman Show'] ['/title/tt0120382/'] ['(1998)'] ['103 min']\n",
            "['The Lion King'] ['/title/tt0110357/'] ['(1994)'] ['88 min']\n"
          ],
          "name": "stdout"
        }
      ]
    },
    {
      "cell_type": "markdown",
      "metadata": {
        "id": "hiDvPnNYaUQu",
        "colab_type": "text"
      },
      "source": [
        "Now it's your turn! Collect more data (gross)"
      ]
    },
    {
      "cell_type": "code",
      "metadata": {
        "id": "RHqoOv1-aSJK",
        "colab_type": "code",
        "colab": {
          "base_uri": "https://localhost:8080/",
          "height": 877
        },
        "outputId": "18436716-5535-4aed-95d5-c507ff38baec"
      },
      "source": [
        "r = requests.get('http://www.imdb.com/search/title?at=0&sort=num_votes,desc&start=1&title_type=feature&year=1950,2012')\n",
        "data = html.fromstring(r.text)\n",
        "\n",
        "# Xpath\n",
        "\n",
        "for i in data.xpath(\"//div[@class='lister-item-content']\"):\n",
        "    title = i.xpath('h3/a/text()')  \n",
        "    url = i.xpath('h3/a/@href')        \n",
        "    year = i.xpath('h3/span[2]/text()')   \n",
        "    length = i.xpath(\"p[1]/span[3]/text()\")\n",
        "    rating = i.xpath(\"div/div/strong/text()\")\n",
        "    metascore = i.xpath(\"div[@class='ratings-bar']/div[3]/span/text()\")\n",
        "    votes = i.xpath(\"p[@class='sort-num_votes-visible']/span[2]/text()\")\n",
        "    print(title, url, year, length, rating, metascore, votes)       \n"
      ],
      "execution_count": 3,
      "outputs": [
        {
          "output_type": "stream",
          "text": [
            "['The Shawshank Redemption'] ['/title/tt0111161/'] ['(1994)'] ['142 min'] ['9.3'] ['80        '] ['2,089,035']\n",
            "['The Dark Knight'] ['/title/tt0468569/'] ['(2008)'] ['152 min'] ['9.0'] ['84        '] ['2,055,527']\n",
            "['Inception'] ['/title/tt1375666/'] ['(2010)'] ['148 min'] ['8.8'] ['74        '] ['1,830,297']\n",
            "['Fight Club'] ['/title/tt0137523/'] ['(1999)'] ['139 min'] ['8.8'] ['66        '] ['1,670,201']\n",
            "['Pulp Fiction'] ['/title/tt0110912/'] ['(1994)'] ['154 min'] ['8.9'] ['94        '] ['1,632,907']\n",
            "['Forrest Gump'] ['/title/tt0109830/'] ['(1994)'] ['142 min'] ['8.8'] ['82        '] ['1,601,904']\n",
            "['The Lord of the Rings: The Fellowship of the Ring'] ['/title/tt0120737/'] ['(2001)'] ['178 min'] ['8.8'] ['92        '] ['1,503,008']\n",
            "['The Matrix'] ['/title/tt0133093/'] ['(1999)'] ['136 min'] ['8.7'] ['73        '] ['1,500,183']\n",
            "['The Lord of the Rings: The Return of the King'] ['/title/tt0167260/'] ['(2003)'] ['201 min'] ['8.9'] ['94        '] ['1,486,931']\n",
            "['The Godfather'] ['/title/tt0068646/'] ['(1972)'] ['175 min'] ['9.2'] ['100        '] ['1,433,674']\n",
            "['The Dark Knight Rises'] ['/title/tt1345836/'] ['(2012)'] ['164 min'] ['8.4'] ['78        '] ['1,381,041']\n",
            "['The Lord of the Rings: The Two Towers'] ['/title/tt0167261/'] ['(2002)'] ['179 min'] ['8.7'] ['87        '] ['1,344,504']\n",
            "['Se7en'] ['/title/tt0114369/'] ['(1995)'] ['127 min'] ['8.6'] ['65        '] ['1,280,923']\n",
            "['Gladiator'] ['/title/tt0172495/'] ['(2000)'] ['155 min'] ['8.5'] ['67        '] ['1,206,471']\n",
            "['Django Unchained'] ['/title/tt1853728/'] ['(2012)'] ['165 min'] ['8.4'] ['81        '] ['1,204,262']\n",
            "['Batman Begins'] ['/title/tt0372784/'] ['(2005)'] ['140 min'] ['8.2'] ['70        '] ['1,188,446']\n",
            "['The Avengers'] ['/title/tt0848228/'] ['(2012)'] ['143 min'] ['8.1'] ['69        '] ['1,177,538']\n",
            "['The Silence of the Lambs'] ['/title/tt0102926/'] ['(1991)'] ['118 min'] ['8.6'] ['85        '] ['1,127,612']\n",
            "['Star Wars: Episode IV - A New Hope'] ['/title/tt0076759/'] ['(1977)'] ['121 min'] ['8.6'] ['90        '] ['1,116,945']\n",
            "['Inglourious Basterds'] ['/title/tt0361748/'] ['(2009)'] ['153 min'] ['8.3'] ['69        '] ['1,113,679']\n",
            "['Saving Private Ryan'] ['/title/tt0120815/'] ['(1998)'] ['169 min'] ['8.6'] ['91        '] ['1,104,480']\n",
            "[\"Schindler's List\"] ['/title/tt0108052/'] ['(1993)'] ['195 min'] ['8.9'] ['93        '] ['1,082,790']\n",
            "['The Departed'] ['/title/tt0407887/'] ['(2006)'] ['151 min'] ['8.5'] ['85        '] ['1,070,795']\n",
            "['The Prestige'] ['/title/tt0482571/'] ['(2006)'] ['130 min'] ['8.5'] ['66        '] ['1,060,092']\n",
            "['Star Wars: Episode V - The Empire Strikes Back'] ['/title/tt0080684/'] ['(1980)'] ['124 min'] ['8.7'] ['82        '] ['1,047,623']\n",
            "['Avatar'] ['/title/tt0499549/'] ['(2009)'] ['162 min'] ['7.8'] ['83        '] ['1,040,924']\n",
            "['Memento'] ['/title/tt0209144/'] ['(2000)'] ['113 min'] ['8.5'] ['80        '] ['1,027,001']\n",
            "['The Green Mile'] ['/title/tt0120689/'] ['(1999)'] ['189 min'] ['8.6'] ['61        '] ['1,009,442']\n",
            "['Shutter Island'] ['/title/tt1130884/'] ['(2010)'] ['138 min'] ['8.1'] ['63        '] ['1,000,725']\n",
            "['The Godfather: Part II'] ['/title/tt0071562/'] ['(1974)'] ['202 min'] ['9.0'] ['90        '] ['995,839']\n",
            "['American Beauty'] ['/title/tt0169547/'] ['(1999)'] ['122 min'] ['8.4'] ['86        '] ['986,843']\n",
            "['Pirates of the Caribbean: The Curse of the Black Pearl'] ['/title/tt0325980/'] ['(2003)'] ['143 min'] ['8.0'] ['63        '] ['961,323']\n",
            "['Titanic'] ['/title/tt0120338/'] ['(1997)'] ['194 min'] ['7.8'] ['75        '] ['952,388']\n",
            "['V for Vendetta'] ['/title/tt0434409/'] ['(2005)'] ['132 min'] ['8.2'] ['62        '] ['949,165']\n",
            "['American History X'] ['/title/tt0120586/'] ['(1998)'] ['119 min'] ['8.5'] ['62        '] ['947,414']\n",
            "['Back to the Future'] ['/title/tt0088763/'] ['(1985)'] ['116 min'] ['8.5'] ['87        '] ['930,791']\n",
            "['Léon: The Professional'] ['/title/tt0110413/'] ['(1994)'] ['110 min'] ['8.6'] ['64        '] ['920,538']\n",
            "['Terminator 2: Judgment Day'] ['/title/tt0103064/'] ['(1991)'] ['137 min'] ['8.5'] ['75        '] ['903,593']\n",
            "['The Usual Suspects'] ['/title/tt0114814/'] ['(1995)'] ['106 min'] ['8.6'] ['77        '] ['903,206']\n",
            "['Kill Bill: Vol. 1'] ['/title/tt0266697/'] ['(2003)'] ['111 min'] ['8.1'] ['69        '] ['901,932']\n",
            "['WALL·E'] ['/title/tt0910970/'] ['(2008)'] ['98 min'] ['8.4'] ['95        '] ['901,693']\n",
            "['Goodfellas'] ['/title/tt0099685/'] ['(1990)'] ['146 min'] ['8.7'] ['89        '] ['901,607']\n",
            "['Braveheart'] ['/title/tt0112573/'] ['(1995)'] ['178 min'] ['8.4'] ['68        '] ['888,015']\n",
            "['Finding Nemo'] ['/title/tt0266543/'] ['(2003)'] ['100 min'] ['8.1'] ['90        '] ['863,521']\n",
            "['Iron Man'] ['/title/tt0371746/'] ['(2008)'] ['126 min'] ['7.9'] ['79        '] ['858,739']\n",
            "['Star Wars: Episode VI - Return of the Jedi'] ['/title/tt0086190/'] ['(1983)'] ['131 min'] ['8.3'] ['58        '] ['858,055']\n",
            "['The Sixth Sense'] ['/title/tt0167404/'] ['(1999)'] ['107 min'] ['8.1'] ['64        '] ['841,536']\n",
            "['Up'] ['/title/tt1049413/'] ['(2009)'] ['96 min'] ['8.2'] ['88        '] ['841,106']\n",
            "['The Truman Show'] ['/title/tt0120382/'] ['(1998)'] ['103 min'] ['8.1'] ['90        '] ['835,254']\n",
            "['The Lion King'] ['/title/tt0110357/'] ['(1994)'] ['88 min'] ['8.5'] ['83        '] ['830,007']\n"
          ],
          "name": "stdout"
        }
      ]
    },
    {
      "cell_type": "markdown",
      "metadata": {
        "id": "GY5NJP7hfCDs",
        "colab_type": "text"
      },
      "source": [
        "Collect large data!!!"
      ]
    },
    {
      "cell_type": "code",
      "metadata": {
        "id": "pdtNPpsUY9f6",
        "colab_type": "code",
        "colab": {
          "base_uri": "https://localhost:8080/",
          "height": 1717
        },
        "outputId": "66de9f3e-bf8a-46b8-b692-92e7cbc8a565"
      },
      "source": [
        "alldata =[]\n",
        "\n",
        "web = \"http://www.imdb.com/search/title?at=0&sort=num_votes,desc&start=%s&title_type=feature&year=1950,2012\"\n",
        "\n",
        "for page in range(1,1000,500):\n",
        "    url = web % page\n",
        "    data = html.fromstring(requests.get(url).text)\n",
        "    \n",
        "    for i in data.xpath(\"//div[@class='lister-item-content']\"):\n",
        "        title = i.xpath('h3/a/text()')  \n",
        "        url = i.xpath('h3/a/@href')        \n",
        "        year = i.xpath('h3/span[2]/text()')   \n",
        "        length = i.xpath(\"p[1]/span[3]/text()\")\n",
        "        rating = i.xpath(\"div/div/strong/text()\")\n",
        "        metascore = i.xpath(\"div[@class='ratings-bar']/div[3]/span/text()\")\n",
        "        votes = i.xpath(\"p[@class='sort-num_votes-visible']/span[2]/text()\")\n",
        "        gross = i.xpath(\"p[@class='sort-num_votes-visible']/span[5]/text()\")\n",
        "        print(title, url, year, length, rating, metascore, votes, gross)\n",
        "        alldata.append([title, url, year, length, rating, metascore, votes, gross])\n",
        "        \n",
        "df = pd.DataFrame(alldata)\n",
        "df.to_csv(\"imdb_data.csv\", index=False)"
      ],
      "execution_count": 4,
      "outputs": [
        {
          "output_type": "stream",
          "text": [
            "['The Shawshank Redemption'] ['/title/tt0111161/'] ['(1994)'] ['142 min'] ['9.3'] ['80        '] ['2,089,035'] ['$28.34M']\n",
            "['The Dark Knight'] ['/title/tt0468569/'] ['(2008)'] ['152 min'] ['9.0'] ['84        '] ['2,055,527'] ['$534.86M']\n",
            "['Inception'] ['/title/tt1375666/'] ['(2010)'] ['148 min'] ['8.8'] ['74        '] ['1,830,297'] ['$292.58M']\n",
            "['Fight Club'] ['/title/tt0137523/'] ['(1999)'] ['139 min'] ['8.8'] ['66        '] ['1,670,224'] ['$37.03M']\n",
            "['Pulp Fiction'] ['/title/tt0110912/'] ['(1994)'] ['154 min'] ['8.9'] ['94        '] ['1,632,929'] ['$107.93M']\n",
            "['Forrest Gump'] ['/title/tt0109830/'] ['(1994)'] ['142 min'] ['8.8'] ['82        '] ['1,601,930'] ['$330.25M']\n",
            "['The Lord of the Rings: The Fellowship of the Ring'] ['/title/tt0120737/'] ['(2001)'] ['178 min'] ['8.8'] ['92        '] ['1,502,989'] ['$315.54M']\n",
            "['The Matrix'] ['/title/tt0133093/'] ['(1999)'] ['136 min'] ['8.7'] ['73        '] ['1,500,156'] ['$171.48M']\n",
            "['The Lord of the Rings: The Return of the King'] ['/title/tt0167260/'] ['(2003)'] ['201 min'] ['8.9'] ['94        '] ['1,486,945'] ['$377.85M']\n",
            "['The Godfather'] ['/title/tt0068646/'] ['(1972)'] ['175 min'] ['9.2'] ['100        '] ['1,433,674'] ['$134.97M']\n",
            "['The Dark Knight Rises'] ['/title/tt1345836/'] ['(2012)'] ['164 min'] ['8.4'] ['78        '] ['1,381,041'] ['$448.14M']\n",
            "['The Lord of the Rings: The Two Towers'] ['/title/tt0167261/'] ['(2002)'] ['179 min'] ['8.7'] ['87        '] ['1,344,504'] ['$342.55M']\n",
            "['Se7en'] ['/title/tt0114369/'] ['(1995)'] ['127 min'] ['8.6'] ['65        '] ['1,280,923'] ['$100.13M']\n",
            "['Gladiator'] ['/title/tt0172495/'] ['(2000)'] ['155 min'] ['8.5'] ['67        '] ['1,206,471'] ['$187.71M']\n",
            "['Django Unchained'] ['/title/tt1853728/'] ['(2012)'] ['165 min'] ['8.4'] ['81        '] ['1,204,262'] ['$162.81M']\n",
            "['Batman Begins'] ['/title/tt0372784/'] ['(2005)'] ['140 min'] ['8.2'] ['70        '] ['1,188,446'] ['$206.85M']\n",
            "['The Avengers'] ['/title/tt0848228/'] ['(2012)'] ['143 min'] ['8.1'] ['69        '] ['1,177,563'] ['$623.36M']\n",
            "['The Silence of the Lambs'] ['/title/tt0102926/'] ['(1991)'] ['118 min'] ['8.6'] ['85        '] ['1,127,612'] ['$130.74M']\n",
            "['Star Wars: Episode IV - A New Hope'] ['/title/tt0076759/'] ['(1977)'] ['121 min'] ['8.6'] ['90        '] ['1,116,945'] ['$322.74M']\n",
            "['Inglourious Basterds'] ['/title/tt0361748/'] ['(2009)'] ['153 min'] ['8.3'] ['69        '] ['1,113,667'] ['$120.54M']\n",
            "['Saving Private Ryan'] ['/title/tt0120815/'] ['(1998)'] ['169 min'] ['8.6'] ['91        '] ['1,104,480'] ['$216.54M']\n",
            "[\"Schindler's List\"] ['/title/tt0108052/'] ['(1993)'] ['195 min'] ['8.9'] ['93        '] ['1,082,790'] ['$96.07M']\n",
            "['The Departed'] ['/title/tt0407887/'] ['(2006)'] ['151 min'] ['8.5'] ['85        '] ['1,070,795'] ['$132.38M']\n",
            "['The Prestige'] ['/title/tt0482571/'] ['(2006)'] ['130 min'] ['8.5'] ['66        '] ['1,060,092'] ['$53.09M']\n",
            "['Star Wars: Episode V - The Empire Strikes Back'] ['/title/tt0080684/'] ['(1980)'] ['124 min'] ['8.7'] ['82        '] ['1,047,623'] ['$290.48M']\n",
            "['Avatar'] ['/title/tt0499549/'] ['(2009)'] ['162 min'] ['7.8'] ['83        '] ['1,040,924'] ['$760.51M']\n",
            "['Memento'] ['/title/tt0209144/'] ['(2000)'] ['113 min'] ['8.5'] ['80        '] ['1,027,001'] ['$25.54M']\n",
            "['The Green Mile'] ['/title/tt0120689/'] ['(1999)'] ['189 min'] ['8.6'] ['61        '] ['1,009,442'] ['$136.80M']\n",
            "['Shutter Island'] ['/title/tt1130884/'] ['(2010)'] ['138 min'] ['8.1'] ['63        '] ['1,000,725'] ['$128.01M']\n",
            "['The Godfather: Part II'] ['/title/tt0071562/'] ['(1974)'] ['202 min'] ['9.0'] ['90        '] ['995,839'] ['$57.30M']\n",
            "['American Beauty'] ['/title/tt0169547/'] ['(1999)'] ['122 min'] ['8.4'] ['86        '] ['986,854'] ['$130.10M']\n",
            "['Pirates of the Caribbean: The Curse of the Black Pearl'] ['/title/tt0325980/'] ['(2003)'] ['143 min'] ['8.0'] ['63        '] ['961,323'] ['$305.41M']\n",
            "['Titanic'] ['/title/tt0120338/'] ['(1997)'] ['194 min'] ['7.8'] ['75        '] ['952,412'] ['$659.33M']\n",
            "['V for Vendetta'] ['/title/tt0434409/'] ['(2005)'] ['132 min'] ['8.2'] ['62        '] ['949,165'] ['$70.51M']\n",
            "['American History X'] ['/title/tt0120586/'] ['(1998)'] ['119 min'] ['8.5'] ['62        '] ['947,428'] ['$6.72M']\n",
            "['Back to the Future'] ['/title/tt0088763/'] ['(1985)'] ['116 min'] ['8.5'] ['87        '] ['930,791'] ['$210.61M']\n",
            "['Léon: The Professional'] ['/title/tt0110413/'] ['(1994)'] ['110 min'] ['8.6'] ['64        '] ['920,538'] ['$19.50M']\n",
            "['Terminator 2: Judgment Day'] ['/title/tt0103064/'] ['(1991)'] ['137 min'] ['8.5'] ['75        '] ['903,593'] ['$204.84M']\n",
            "['The Usual Suspects'] ['/title/tt0114814/'] ['(1995)'] ['106 min'] ['8.6'] ['77        '] ['903,206'] ['$23.34M']\n",
            "['Kill Bill: Vol. 1'] ['/title/tt0266697/'] ['(2003)'] ['111 min'] ['8.1'] ['69        '] ['901,932'] ['$70.10M']\n",
            "['WALL·E'] ['/title/tt0910970/'] ['(2008)'] ['98 min'] ['8.4'] ['95        '] ['901,693'] ['$223.81M']\n",
            "['Goodfellas'] ['/title/tt0099685/'] ['(1990)'] ['146 min'] ['8.7'] ['89        '] ['901,622'] ['$46.84M']\n",
            "['Braveheart'] ['/title/tt0112573/'] ['(1995)'] ['178 min'] ['8.4'] ['68        '] ['888,000'] ['$75.60M']\n",
            "['Finding Nemo'] ['/title/tt0266543/'] ['(2003)'] ['100 min'] ['8.1'] ['90        '] ['863,521'] ['$380.84M']\n",
            "['Iron Man'] ['/title/tt0371746/'] ['(2008)'] ['126 min'] ['7.9'] ['79        '] ['858,739'] ['$318.41M']\n",
            "['Star Wars: Episode VI - Return of the Jedi'] ['/title/tt0086190/'] ['(1983)'] ['131 min'] ['8.3'] ['58        '] ['858,065'] ['$309.13M']\n",
            "['The Sixth Sense'] ['/title/tt0167404/'] ['(1999)'] ['107 min'] ['8.1'] ['64        '] ['841,536'] ['$293.51M']\n",
            "['Up'] ['/title/tt1049413/'] ['(2009)'] ['96 min'] ['8.2'] ['88        '] ['841,106'] ['$293.00M']\n",
            "['The Truman Show'] ['/title/tt0120382/'] ['(1998)'] ['103 min'] ['8.1'] ['90        '] ['835,254'] ['$125.62M']\n",
            "['The Lion King'] ['/title/tt0110357/'] ['(1994)'] ['88 min'] ['8.5'] ['83        '] ['830,007'] ['$312.90M']\n",
            "['Atonement'] ['/title/tt0783233/'] ['(2007)'] ['123 min'] ['7.8'] ['85        '] ['227,767'] ['$50.93M']\n",
            "['Road to Perdition'] ['/title/tt0257044/'] ['(2002)'] ['117 min'] ['7.7'] ['72        '] ['227,732'] ['$104.45M']\n",
            "['Kung Fu Panda 2'] ['/title/tt1302011/'] ['(2011)'] ['90 min'] ['7.2'] ['67        '] ['227,318'] ['$165.25M']\n",
            "['Vicky Cristina Barcelona'] ['/title/tt0497465/'] ['(2008)'] ['96 min'] ['7.1'] ['70        '] ['227,283'] ['$23.22M']\n",
            "['The Village'] ['/title/tt0368447/'] ['(2004)'] ['108 min'] ['6.5'] ['44        '] ['227,241'] ['$114.20M']\n",
            "['The Adjustment Bureau'] ['/title/tt1385826/'] ['(2011)'] ['106 min'] ['7.1'] ['60        '] ['227,103'] ['$62.50M']\n",
            "['Office Space'] ['/title/tt0151804/'] ['(1999)'] ['89 min'] ['7.8'] ['68        '] ['226,342'] ['$10.82M']\n",
            "['The Place Beyond the Pines'] ['/title/tt1817273/'] ['(2012)'] ['140 min'] ['7.3'] ['68        '] ['226,138'] ['$21.38M']\n",
            "['Blade'] ['/title/tt0120611/'] ['(1998)'] ['120 min'] ['7.1'] ['45        '] ['225,754'] ['$70.09M']\n",
            "['American Pie 2'] ['/title/tt0252866/'] ['(2001)'] ['108 min'] ['6.4'] ['43        '] ['225,113'] ['$145.10M']\n",
            "['Battleship'] ['/title/tt1440129/'] ['(2012)'] ['131 min'] ['5.8'] ['41        '] ['224,960'] ['$65.42M']\n",
            "['Enemy at the Gates'] ['/title/tt0215750/'] ['(2001)'] ['131 min'] ['7.6'] ['53        '] ['224,117'] ['$51.40M']\n",
            "['Blow'] ['/title/tt0221027/'] ['(2001)'] ['124 min'] ['7.6'] ['52        '] ['223,455'] ['$52.99M']\n",
            "['The Descendants'] ['/title/tt1033575/'] ['(2011)'] ['115 min'] ['7.3'] ['84        '] ['223,176'] ['$82.58M']\n",
            "['Corpse Bride'] ['/title/tt0121164/'] ['(2005)'] ['77 min'] ['7.4'] ['83        '] ['222,942'] ['$53.36M']\n",
            "['Seven Psychopaths'] ['/title/tt1931533/'] ['(2012)'] ['110 min'] ['7.2'] ['66        '] ['222,884'] ['$15.02M']\n",
            "['Changeling'] ['/title/tt0824747/'] ['(2008)'] ['141 min'] ['7.7'] ['63        '] ['222,709'] ['$35.74M']\n",
            "['GoldenEye'] ['/title/tt0113189/'] ['(1995)'] ['130 min'] ['7.2'] ['65        '] ['222,615'] ['$106.60M']\n",
            "[\"Hachi: A Dog's Tale\"] ['/title/tt1028532/'] ['(2009)'] ['93 min'] ['8.1'] [] ['222,278'] []\n",
            "['Jerry Maguire'] ['/title/tt0116695/'] ['(1996)'] ['139 min'] ['7.3'] ['77        '] ['221,693'] ['$153.95M']\n",
            "['Crank'] ['/title/tt0479884/'] ['(2006)'] ['88 min'] ['7.0'] ['57        '] ['221,297'] ['$27.83M']\n",
            "['The Other Guys'] ['/title/tt1386588/'] ['(2010)'] ['107 min'] ['6.7'] ['64        '] ['221,013'] ['$119.22M']\n",
            "['Mulan'] ['/title/tt0120762/'] ['(1998)'] ['88 min'] ['7.6'] ['71        '] ['220,763'] ['$120.62M']\n",
            "['Dawn of the Dead'] ['/title/tt0363547/'] ['(2004)'] ['101 min'] ['7.3'] ['59        '] ['220,104'] ['$59.02M']\n",
            "['Dances with Wolves'] ['/title/tt0099348/'] ['(1990)'] ['181 min'] ['8.0'] ['72        '] ['220,048'] ['$184.21M']\n",
            "['Paul'] ['/title/tt1092026/'] ['(2011)'] ['104 min'] ['7.0'] ['57        '] ['219,978'] ['$37.41M']\n",
            "['The Holiday'] ['/title/tt0457939/'] ['(2006)'] ['138 min'] ['6.9'] ['52        '] ['219,947'] ['$63.22M']\n",
            "['Batman Forever'] ['/title/tt0112462/'] ['(1995)'] ['121 min'] ['5.4'] ['51        '] ['219,668'] ['$184.03M']\n",
            "['Mrs. Doubtfire'] ['/title/tt0107614/'] ['(1993)'] ['125 min'] ['7.0'] ['53        '] ['219,550'] ['$219.20M']\n",
            "['Rush Hour'] ['/title/tt0120812/'] ['(1998)'] ['98 min'] ['7.0'] ['60        '] ['219,403'] ['$141.15M']\n",
            "['Some Like It Hot'] ['/title/tt0053291/'] ['(1959)'] ['121 min'] ['8.2'] ['97        '] ['219,353'] ['$25.00M']\n",
            "['Sunshine'] ['/title/tt0448134/'] ['(2007)'] ['107 min'] ['7.3'] ['64        '] ['219,328'] ['$3.68M']\n",
            "['RocknRolla'] ['/title/tt1032755/'] ['(2008)'] ['114 min'] ['7.3'] ['53        '] ['219,262'] ['$5.69M']\n",
            "['Boogie Nights'] ['/title/tt0118749/'] ['(1997)'] ['155 min'] ['7.9'] ['85        '] ['219,248'] ['$26.40M']\n",
            "['True Lies'] ['/title/tt0111503/'] ['(1994)'] ['141 min'] ['7.2'] ['63        '] ['219,143'] ['$146.28M']\n",
            "['Perfume: The Story of a Murderer'] ['/title/tt0396171/'] ['(2006)'] ['147 min'] ['7.5'] ['56        '] ['219,069'] ['$2.22M']\n",
            "['Lethal Weapon'] ['/title/tt0093409/'] ['(1987)'] ['109 min'] ['7.6'] ['68        '] ['219,007'] ['$65.21M']\n",
            "['The Sting'] ['/title/tt0070735/'] ['(1973)'] ['129 min'] ['8.3'] ['80        '] ['218,805'] ['$159.60M']\n",
            "['The Fast and the Furious: Tokyo Drift'] ['/title/tt0463985/'] ['(2006)'] ['104 min'] ['6.0'] ['45        '] ['218,354'] ['$62.51M']\n",
            "['Sucker Punch'] ['/title/tt0978764/'] ['(2011)'] ['110 min'] ['6.1'] ['33        '] ['217,928'] ['$36.39M']\n",
            "['Batman & Robin'] ['/title/tt0118688/'] ['(1997)'] ['125 min'] ['3.7'] ['28        '] ['217,562'] ['$107.33M']\n",
            "['The Reader'] ['/title/tt0976051/'] ['(2008)'] ['124 min'] ['7.6'] ['58        '] ['217,470'] ['$34.19M']\n",
            "['Dog Day Afternoon'] ['/title/tt0072890/'] ['(1975)'] ['125 min'] ['8.0'] ['86        '] ['217,459'] ['$50.00M']\n",
            "['I Am Number Four'] ['/title/tt1464540/'] ['(2011)'] ['111 min'] ['6.1'] ['36        '] ['217,270'] ['$55.10M']\n",
            "['Saw II'] ['/title/tt0432348/'] ['(2005)'] ['93 min'] ['6.6'] ['40        '] ['217,162'] ['$87.04M']\n",
            "['The Boondock Saints'] ['/title/tt0144117/'] ['(1999)'] ['108 min'] ['7.8'] ['44        '] ['216,859'] ['$0.03M']\n",
            "['The Artist'] ['/title/tt1655442/'] ['(I) (2011)'] ['100 min'] ['7.9'] ['89        '] ['216,769'] ['$44.67M']\n",
            "['The Goonies'] ['/title/tt0089218/'] ['(1985)'] ['114 min'] ['7.8'] ['62        '] ['216,339'] ['$61.50M']\n",
            "['The Fountain'] ['/title/tt0414993/'] ['(2006)'] ['96 min'] ['7.3'] ['51        '] ['215,996'] ['$10.14M']\n",
            "['The Blair Witch Project'] ['/title/tt0185937/'] ['(1999)'] ['81 min'] ['6.4'] ['81        '] ['215,860'] ['$140.54M']\n"
          ],
          "name": "stdout"
        }
      ]
    },
    {
      "cell_type": "markdown",
      "metadata": {
        "id": "4NwS9RvAY9f9",
        "colab_type": "text"
      },
      "source": [
        "# Business Intelligence (BI)"
      ]
    },
    {
      "cell_type": "code",
      "metadata": {
        "id": "1cJRPEhEUbww",
        "colab_type": "code",
        "colab": {
          "base_uri": "https://localhost:8080/",
          "height": 34
        },
        "outputId": "612782fa-257d-49fd-dd40-afefae0d0186"
      },
      "source": [
        "df.shape"
      ],
      "execution_count": 5,
      "outputs": [
        {
          "output_type": "execute_result",
          "data": {
            "text/plain": [
              "(100, 8)"
            ]
          },
          "metadata": {
            "tags": []
          },
          "execution_count": 5
        }
      ]
    },
    {
      "cell_type": "code",
      "metadata": {
        "id": "p6rkpux6IhJo",
        "colab_type": "code",
        "colab": {
          "base_uri": "https://localhost:8080/",
          "height": 195
        },
        "outputId": "4ac2b4f1-0e33-4c29-f8e7-0eb7efbc9bbd"
      },
      "source": [
        "df.head()"
      ],
      "execution_count": 6,
      "outputs": [
        {
          "output_type": "execute_result",
          "data": {
            "text/html": [
              "<div>\n",
              "<style scoped>\n",
              "    .dataframe tbody tr th:only-of-type {\n",
              "        vertical-align: middle;\n",
              "    }\n",
              "\n",
              "    .dataframe tbody tr th {\n",
              "        vertical-align: top;\n",
              "    }\n",
              "\n",
              "    .dataframe thead th {\n",
              "        text-align: right;\n",
              "    }\n",
              "</style>\n",
              "<table border=\"1\" class=\"dataframe\">\n",
              "  <thead>\n",
              "    <tr style=\"text-align: right;\">\n",
              "      <th></th>\n",
              "      <th>0</th>\n",
              "      <th>1</th>\n",
              "      <th>2</th>\n",
              "      <th>3</th>\n",
              "      <th>4</th>\n",
              "      <th>5</th>\n",
              "      <th>6</th>\n",
              "      <th>7</th>\n",
              "    </tr>\n",
              "  </thead>\n",
              "  <tbody>\n",
              "    <tr>\n",
              "      <th>0</th>\n",
              "      <td>[The Shawshank Redemption]</td>\n",
              "      <td>[/title/tt0111161/]</td>\n",
              "      <td>[(1994)]</td>\n",
              "      <td>[142 min]</td>\n",
              "      <td>[9.3]</td>\n",
              "      <td>[80        ]</td>\n",
              "      <td>[2,089,035]</td>\n",
              "      <td>[$28.34M]</td>\n",
              "    </tr>\n",
              "    <tr>\n",
              "      <th>1</th>\n",
              "      <td>[The Dark Knight]</td>\n",
              "      <td>[/title/tt0468569/]</td>\n",
              "      <td>[(2008)]</td>\n",
              "      <td>[152 min]</td>\n",
              "      <td>[9.0]</td>\n",
              "      <td>[84        ]</td>\n",
              "      <td>[2,055,527]</td>\n",
              "      <td>[$534.86M]</td>\n",
              "    </tr>\n",
              "    <tr>\n",
              "      <th>2</th>\n",
              "      <td>[Inception]</td>\n",
              "      <td>[/title/tt1375666/]</td>\n",
              "      <td>[(2010)]</td>\n",
              "      <td>[148 min]</td>\n",
              "      <td>[8.8]</td>\n",
              "      <td>[74        ]</td>\n",
              "      <td>[1,830,297]</td>\n",
              "      <td>[$292.58M]</td>\n",
              "    </tr>\n",
              "    <tr>\n",
              "      <th>3</th>\n",
              "      <td>[Fight Club]</td>\n",
              "      <td>[/title/tt0137523/]</td>\n",
              "      <td>[(1999)]</td>\n",
              "      <td>[139 min]</td>\n",
              "      <td>[8.8]</td>\n",
              "      <td>[66        ]</td>\n",
              "      <td>[1,670,224]</td>\n",
              "      <td>[$37.03M]</td>\n",
              "    </tr>\n",
              "    <tr>\n",
              "      <th>4</th>\n",
              "      <td>[Pulp Fiction]</td>\n",
              "      <td>[/title/tt0110912/]</td>\n",
              "      <td>[(1994)]</td>\n",
              "      <td>[154 min]</td>\n",
              "      <td>[8.9]</td>\n",
              "      <td>[94        ]</td>\n",
              "      <td>[1,632,929]</td>\n",
              "      <td>[$107.93M]</td>\n",
              "    </tr>\n",
              "  </tbody>\n",
              "</table>\n",
              "</div>"
            ],
            "text/plain": [
              "                            0                    1  ...            6           7\n",
              "0  [The Shawshank Redemption]  [/title/tt0111161/]  ...  [2,089,035]   [$28.34M]\n",
              "1           [The Dark Knight]  [/title/tt0468569/]  ...  [2,055,527]  [$534.86M]\n",
              "2                 [Inception]  [/title/tt1375666/]  ...  [1,830,297]  [$292.58M]\n",
              "3                [Fight Club]  [/title/tt0137523/]  ...  [1,670,224]   [$37.03M]\n",
              "4              [Pulp Fiction]  [/title/tt0110912/]  ...  [1,632,929]  [$107.93M]\n",
              "\n",
              "[5 rows x 8 columns]"
            ]
          },
          "metadata": {
            "tags": []
          },
          "execution_count": 6
        }
      ]
    },
    {
      "cell_type": "code",
      "metadata": {
        "id": "dsBoNxGMiOLC",
        "colab_type": "code",
        "colab": {
          "base_uri": "https://localhost:8080/",
          "height": 195
        },
        "outputId": "0522b6a5-23f8-4fa7-ead0-2f6c396c44f4"
      },
      "source": [
        "df.tail()"
      ],
      "execution_count": 7,
      "outputs": [
        {
          "output_type": "execute_result",
          "data": {
            "text/html": [
              "<div>\n",
              "<style scoped>\n",
              "    .dataframe tbody tr th:only-of-type {\n",
              "        vertical-align: middle;\n",
              "    }\n",
              "\n",
              "    .dataframe tbody tr th {\n",
              "        vertical-align: top;\n",
              "    }\n",
              "\n",
              "    .dataframe thead th {\n",
              "        text-align: right;\n",
              "    }\n",
              "</style>\n",
              "<table border=\"1\" class=\"dataframe\">\n",
              "  <thead>\n",
              "    <tr style=\"text-align: right;\">\n",
              "      <th></th>\n",
              "      <th>0</th>\n",
              "      <th>1</th>\n",
              "      <th>2</th>\n",
              "      <th>3</th>\n",
              "      <th>4</th>\n",
              "      <th>5</th>\n",
              "      <th>6</th>\n",
              "      <th>7</th>\n",
              "    </tr>\n",
              "  </thead>\n",
              "  <tbody>\n",
              "    <tr>\n",
              "      <th>95</th>\n",
              "      <td>[The Boondock Saints]</td>\n",
              "      <td>[/title/tt0144117/]</td>\n",
              "      <td>[(1999)]</td>\n",
              "      <td>[108 min]</td>\n",
              "      <td>[7.8]</td>\n",
              "      <td>[44        ]</td>\n",
              "      <td>[216,859]</td>\n",
              "      <td>[$0.03M]</td>\n",
              "    </tr>\n",
              "    <tr>\n",
              "      <th>96</th>\n",
              "      <td>[The Artist]</td>\n",
              "      <td>[/title/tt1655442/]</td>\n",
              "      <td>[(I) (2011)]</td>\n",
              "      <td>[100 min]</td>\n",
              "      <td>[7.9]</td>\n",
              "      <td>[89        ]</td>\n",
              "      <td>[216,769]</td>\n",
              "      <td>[$44.67M]</td>\n",
              "    </tr>\n",
              "    <tr>\n",
              "      <th>97</th>\n",
              "      <td>[The Goonies]</td>\n",
              "      <td>[/title/tt0089218/]</td>\n",
              "      <td>[(1985)]</td>\n",
              "      <td>[114 min]</td>\n",
              "      <td>[7.8]</td>\n",
              "      <td>[62        ]</td>\n",
              "      <td>[216,339]</td>\n",
              "      <td>[$61.50M]</td>\n",
              "    </tr>\n",
              "    <tr>\n",
              "      <th>98</th>\n",
              "      <td>[The Fountain]</td>\n",
              "      <td>[/title/tt0414993/]</td>\n",
              "      <td>[(2006)]</td>\n",
              "      <td>[96 min]</td>\n",
              "      <td>[7.3]</td>\n",
              "      <td>[51        ]</td>\n",
              "      <td>[215,996]</td>\n",
              "      <td>[$10.14M]</td>\n",
              "    </tr>\n",
              "    <tr>\n",
              "      <th>99</th>\n",
              "      <td>[The Blair Witch Project]</td>\n",
              "      <td>[/title/tt0185937/]</td>\n",
              "      <td>[(1999)]</td>\n",
              "      <td>[81 min]</td>\n",
              "      <td>[6.4]</td>\n",
              "      <td>[81        ]</td>\n",
              "      <td>[215,860]</td>\n",
              "      <td>[$140.54M]</td>\n",
              "    </tr>\n",
              "  </tbody>\n",
              "</table>\n",
              "</div>"
            ],
            "text/plain": [
              "                            0                    1  ...          6           7\n",
              "95      [The Boondock Saints]  [/title/tt0144117/]  ...  [216,859]    [$0.03M]\n",
              "96               [The Artist]  [/title/tt1655442/]  ...  [216,769]   [$44.67M]\n",
              "97              [The Goonies]  [/title/tt0089218/]  ...  [216,339]   [$61.50M]\n",
              "98             [The Fountain]  [/title/tt0414993/]  ...  [215,996]   [$10.14M]\n",
              "99  [The Blair Witch Project]  [/title/tt0185937/]  ...  [215,860]  [$140.54M]\n",
              "\n",
              "[5 rows x 8 columns]"
            ]
          },
          "metadata": {
            "tags": []
          },
          "execution_count": 7
        }
      ]
    },
    {
      "cell_type": "code",
      "metadata": {
        "id": "WavzUnx5IhT4",
        "colab_type": "code",
        "colab": {
          "base_uri": "https://localhost:8080/",
          "height": 195
        },
        "outputId": "a1f140f5-9019-45cc-9ede-a1cd0d7533d7"
      },
      "source": [
        "# data cleaning\n",
        "\n",
        "df[0] = df[0].astype(str).str.replace('\\[|\\]', '')\n",
        "df[1] = df[1].astype(str).str.replace('\\[|\\]', '')\n",
        "df[2] = df[2].astype(str).str.replace('\\[|\\]', '')\n",
        "df[3] = df[3].astype(str).str.replace('\\[|\\]', '')\n",
        "df[4] = df[4].astype(str).str.replace('\\[|\\]', '')\n",
        "df[5] = df[5].astype(str).str.replace('\\[|\\]', '')\n",
        "df[6] = df[6].astype(str).str.replace('\\[|\\]', '')\n",
        "df[7] = df[7].astype(str).str.replace('\\[|\\]', '')\n",
        "\n",
        "df[2] = df[2].str.replace('\\(|\\)', '')\n",
        "df[3] = df[3].str.replace(' min', '')\n",
        "df[7] = df[7].str.replace('$', '')\n",
        "df[7] = df[7].str.replace('M', '')\n",
        "\n",
        "df[2] = df[2].str.replace(\"'\", \"\")\n",
        "df[3] = df[3].str.replace(\"'\", \"\")\n",
        "df[4] = df[4].str.replace(\"'\", \"\")\n",
        "df[5] = df[5].str.replace(\"'\", \"\")\n",
        "df[6] = df[6].str.replace(\"'\", \"\")\n",
        "df[7] = df[7].str.replace(\"'\", \"\")\n",
        "\n",
        "df[2] = df[2].str.replace(\"I \", \"\")\n",
        "\n",
        "df[6] = df[6].str.replace(\",\", \"\")\n",
        "\n",
        "df[2] = pd.to_numeric(df[2])\n",
        "df[3] = pd.to_numeric(df[3])\n",
        "df[4] = pd.to_numeric(df[4])\n",
        "df[5] = pd.to_numeric(df[5])\n",
        "df[6] = pd.to_numeric(df[6])\n",
        "df[7] = pd.to_numeric(df[7])\n",
        "\n",
        "df = df.rename(columns={0: 'title', 1: 'url', 2: 'year', 3:'duration', 4:'rating', 5:'metascore', 6:'votes', 7:'gross'})\n",
        "df.head()"
      ],
      "execution_count": 8,
      "outputs": [
        {
          "output_type": "execute_result",
          "data": {
            "text/html": [
              "<div>\n",
              "<style scoped>\n",
              "    .dataframe tbody tr th:only-of-type {\n",
              "        vertical-align: middle;\n",
              "    }\n",
              "\n",
              "    .dataframe tbody tr th {\n",
              "        vertical-align: top;\n",
              "    }\n",
              "\n",
              "    .dataframe thead th {\n",
              "        text-align: right;\n",
              "    }\n",
              "</style>\n",
              "<table border=\"1\" class=\"dataframe\">\n",
              "  <thead>\n",
              "    <tr style=\"text-align: right;\">\n",
              "      <th></th>\n",
              "      <th>title</th>\n",
              "      <th>url</th>\n",
              "      <th>year</th>\n",
              "      <th>duration</th>\n",
              "      <th>rating</th>\n",
              "      <th>metascore</th>\n",
              "      <th>votes</th>\n",
              "      <th>gross</th>\n",
              "    </tr>\n",
              "  </thead>\n",
              "  <tbody>\n",
              "    <tr>\n",
              "      <th>0</th>\n",
              "      <td>'The Shawshank Redemption'</td>\n",
              "      <td>'/title/tt0111161/'</td>\n",
              "      <td>1994</td>\n",
              "      <td>142</td>\n",
              "      <td>9.3</td>\n",
              "      <td>80.0</td>\n",
              "      <td>2089035</td>\n",
              "      <td>28.34</td>\n",
              "    </tr>\n",
              "    <tr>\n",
              "      <th>1</th>\n",
              "      <td>'The Dark Knight'</td>\n",
              "      <td>'/title/tt0468569/'</td>\n",
              "      <td>2008</td>\n",
              "      <td>152</td>\n",
              "      <td>9.0</td>\n",
              "      <td>84.0</td>\n",
              "      <td>2055527</td>\n",
              "      <td>534.86</td>\n",
              "    </tr>\n",
              "    <tr>\n",
              "      <th>2</th>\n",
              "      <td>'Inception'</td>\n",
              "      <td>'/title/tt1375666/'</td>\n",
              "      <td>2010</td>\n",
              "      <td>148</td>\n",
              "      <td>8.8</td>\n",
              "      <td>74.0</td>\n",
              "      <td>1830297</td>\n",
              "      <td>292.58</td>\n",
              "    </tr>\n",
              "    <tr>\n",
              "      <th>3</th>\n",
              "      <td>'Fight Club'</td>\n",
              "      <td>'/title/tt0137523/'</td>\n",
              "      <td>1999</td>\n",
              "      <td>139</td>\n",
              "      <td>8.8</td>\n",
              "      <td>66.0</td>\n",
              "      <td>1670224</td>\n",
              "      <td>37.03</td>\n",
              "    </tr>\n",
              "    <tr>\n",
              "      <th>4</th>\n",
              "      <td>'Pulp Fiction'</td>\n",
              "      <td>'/title/tt0110912/'</td>\n",
              "      <td>1994</td>\n",
              "      <td>154</td>\n",
              "      <td>8.9</td>\n",
              "      <td>94.0</td>\n",
              "      <td>1632929</td>\n",
              "      <td>107.93</td>\n",
              "    </tr>\n",
              "  </tbody>\n",
              "</table>\n",
              "</div>"
            ],
            "text/plain": [
              "                        title                  url  ...    votes   gross\n",
              "0  'The Shawshank Redemption'  '/title/tt0111161/'  ...  2089035   28.34\n",
              "1           'The Dark Knight'  '/title/tt0468569/'  ...  2055527  534.86\n",
              "2                 'Inception'  '/title/tt1375666/'  ...  1830297  292.58\n",
              "3                'Fight Club'  '/title/tt0137523/'  ...  1670224   37.03\n",
              "4              'Pulp Fiction'  '/title/tt0110912/'  ...  1632929  107.93\n",
              "\n",
              "[5 rows x 8 columns]"
            ]
          },
          "metadata": {
            "tags": []
          },
          "execution_count": 8
        }
      ]
    },
    {
      "cell_type": "markdown",
      "metadata": {
        "id": "_J78KCvFQOMo",
        "colab_type": "text"
      },
      "source": [
        "### Exploratory Data Analysis & Data Visualization"
      ]
    },
    {
      "cell_type": "code",
      "metadata": {
        "id": "BEkEsFEFIhhT",
        "colab_type": "code",
        "colab": {}
      },
      "source": [
        "#python package for data visualization\n",
        "\n",
        "import seaborn as sns\n",
        "import matplotlib.pyplot as plt\n",
        "%matplotlib inline"
      ],
      "execution_count": 0,
      "outputs": []
    },
    {
      "cell_type": "code",
      "metadata": {
        "id": "5ikRef4cSBDJ",
        "colab_type": "code",
        "colab": {
          "base_uri": "https://localhost:8080/",
          "height": 284
        },
        "outputId": "6c3e0c47-5358-4feb-9ca6-8a2ee167e3b7"
      },
      "source": [
        "pd.set_option('float_format', '{:f}'.format)\n",
        "\n",
        "#summary statistics\n",
        "\n",
        "df.describe()"
      ],
      "execution_count": 11,
      "outputs": [
        {
          "output_type": "execute_result",
          "data": {
            "text/html": [
              "<div>\n",
              "<style scoped>\n",
              "    .dataframe tbody tr th:only-of-type {\n",
              "        vertical-align: middle;\n",
              "    }\n",
              "\n",
              "    .dataframe tbody tr th {\n",
              "        vertical-align: top;\n",
              "    }\n",
              "\n",
              "    .dataframe thead th {\n",
              "        text-align: right;\n",
              "    }\n",
              "</style>\n",
              "<table border=\"1\" class=\"dataframe\">\n",
              "  <thead>\n",
              "    <tr style=\"text-align: right;\">\n",
              "      <th></th>\n",
              "      <th>year</th>\n",
              "      <th>duration</th>\n",
              "      <th>rating</th>\n",
              "      <th>metascore</th>\n",
              "      <th>votes</th>\n",
              "      <th>gross</th>\n",
              "    </tr>\n",
              "  </thead>\n",
              "  <tbody>\n",
              "    <tr>\n",
              "      <th>count</th>\n",
              "      <td>100.000000</td>\n",
              "      <td>100.000000</td>\n",
              "      <td>100.000000</td>\n",
              "      <td>99.000000</td>\n",
              "      <td>100.000000</td>\n",
              "      <td>99.000000</td>\n",
              "    </tr>\n",
              "    <tr>\n",
              "      <th>mean</th>\n",
              "      <td>1999.790000</td>\n",
              "      <td>128.210000</td>\n",
              "      <td>7.824000</td>\n",
              "      <td>70.090909</td>\n",
              "      <td>684202.700000</td>\n",
              "      <td>147.653232</td>\n",
              "    </tr>\n",
              "    <tr>\n",
              "      <th>std</th>\n",
              "      <td>10.306706</td>\n",
              "      <td>28.337894</td>\n",
              "      <td>0.913548</td>\n",
              "      <td>15.984745</td>\n",
              "      <td>515422.065283</td>\n",
              "      <td>146.852275</td>\n",
              "    </tr>\n",
              "    <tr>\n",
              "      <th>min</th>\n",
              "      <td>1959.000000</td>\n",
              "      <td>77.000000</td>\n",
              "      <td>3.700000</td>\n",
              "      <td>28.000000</td>\n",
              "      <td>215860.000000</td>\n",
              "      <td>0.030000</td>\n",
              "    </tr>\n",
              "    <tr>\n",
              "      <th>25%</th>\n",
              "      <td>1995.000000</td>\n",
              "      <td>107.750000</td>\n",
              "      <td>7.300000</td>\n",
              "      <td>60.500000</td>\n",
              "      <td>220030.500000</td>\n",
              "      <td>50.465000</td>\n",
              "    </tr>\n",
              "    <tr>\n",
              "      <th>50%</th>\n",
              "      <td>2001.000000</td>\n",
              "      <td>124.000000</td>\n",
              "      <td>8.000000</td>\n",
              "      <td>69.000000</td>\n",
              "      <td>528887.000000</td>\n",
              "      <td>107.330000</td>\n",
              "    </tr>\n",
              "    <tr>\n",
              "      <th>75%</th>\n",
              "      <td>2008.000000</td>\n",
              "      <td>142.250000</td>\n",
              "      <td>8.500000</td>\n",
              "      <td>83.500000</td>\n",
              "      <td>1042598.750000</td>\n",
              "      <td>196.275000</td>\n",
              "    </tr>\n",
              "    <tr>\n",
              "      <th>max</th>\n",
              "      <td>2012.000000</td>\n",
              "      <td>202.000000</td>\n",
              "      <td>9.300000</td>\n",
              "      <td>100.000000</td>\n",
              "      <td>2089035.000000</td>\n",
              "      <td>760.510000</td>\n",
              "    </tr>\n",
              "  </tbody>\n",
              "</table>\n",
              "</div>"
            ],
            "text/plain": [
              "             year   duration     rating  metascore          votes      gross\n",
              "count  100.000000 100.000000 100.000000  99.000000     100.000000  99.000000\n",
              "mean  1999.790000 128.210000   7.824000  70.090909  684202.700000 147.653232\n",
              "std     10.306706  28.337894   0.913548  15.984745  515422.065283 146.852275\n",
              "min   1959.000000  77.000000   3.700000  28.000000  215860.000000   0.030000\n",
              "25%   1995.000000 107.750000   7.300000  60.500000  220030.500000  50.465000\n",
              "50%   2001.000000 124.000000   8.000000  69.000000  528887.000000 107.330000\n",
              "75%   2008.000000 142.250000   8.500000  83.500000 1042598.750000 196.275000\n",
              "max   2012.000000 202.000000   9.300000 100.000000 2089035.000000 760.510000"
            ]
          },
          "metadata": {
            "tags": []
          },
          "execution_count": 11
        }
      ]
    },
    {
      "cell_type": "code",
      "metadata": {
        "id": "aTVeu98zbtEl",
        "colab_type": "code",
        "colab": {
          "base_uri": "https://localhost:8080/",
          "height": 588
        },
        "outputId": "0a14976d-34f5-4a3a-f22c-18de9bf149e5"
      },
      "source": [
        "# How many movies each year? (Pivot table)\n",
        "\n",
        "df.groupby('year').size()"
      ],
      "execution_count": 12,
      "outputs": [
        {
          "output_type": "execute_result",
          "data": {
            "text/plain": [
              "year\n",
              "1959    1\n",
              "1972    1\n",
              "1973    1\n",
              "1974    1\n",
              "1975    1\n",
              "1977    1\n",
              "1980    1\n",
              "1983    1\n",
              "1985    2\n",
              "1987    1\n",
              "1990    2\n",
              "1991    2\n",
              "1993    2\n",
              "1994    6\n",
              "1995    5\n",
              "1996    1\n",
              "1997    3\n",
              "1998    6\n",
              "1999    8\n",
              "2000    2\n",
              "2001    4\n",
              "2002    2\n",
              "2003    4\n",
              "2004    2\n",
              "2005    4\n",
              "2006    7\n",
              "2007    2\n",
              "2008    7\n",
              "2009    4\n",
              "2010    3\n",
              "2011    7\n",
              "2012    6\n",
              "dtype: int64"
            ]
          },
          "metadata": {
            "tags": []
          },
          "execution_count": 12
        }
      ]
    },
    {
      "cell_type": "code",
      "metadata": {
        "id": "66jMy7R8UDHI",
        "colab_type": "code",
        "colab": {
          "base_uri": "https://localhost:8080/",
          "height": 750
        },
        "outputId": "5c969bd9-4ed3-4719-de43-7da0ed53c961"
      },
      "source": [
        "plt.figure(figsize=(14,12))\n",
        "df.groupby('year').size().plot(kind='bar')"
      ],
      "execution_count": 13,
      "outputs": [
        {
          "output_type": "execute_result",
          "data": {
            "text/plain": [
              "<matplotlib.axes._subplots.AxesSubplot at 0x7fef59ec6550>"
            ]
          },
          "metadata": {
            "tags": []
          },
          "execution_count": 13
        },
        {
          "output_type": "display_data",
          "data": {
            "image/png": "[encoded data removed]",
            "text/plain": [
              "<Figure size 1008x864 with 1 Axes>"
            ]
          },
          "metadata": {
            "tags": []
          }
        }
      ]
    },
    {
      "cell_type": "code",
      "metadata": {
        "id": "ef7ogY_LSBF8",
        "colab_type": "code",
        "colab": {
          "base_uri": "https://localhost:8080/",
          "height": 1024
        },
        "outputId": "156a9ff0-a812-4f59-9c5f-9eb69ece509c"
      },
      "source": [
        "#pivot for average\n",
        "\n",
        "df.groupby(['year']).mean()"
      ],
      "execution_count": 14,
      "outputs": [
        {
          "output_type": "execute_result",
          "data": {
            "text/html": [
              "<div>\n",
              "<style scoped>\n",
              "    .dataframe tbody tr th:only-of-type {\n",
              "        vertical-align: middle;\n",
              "    }\n",
              "\n",
              "    .dataframe tbody tr th {\n",
              "        vertical-align: top;\n",
              "    }\n",
              "\n",
              "    .dataframe thead th {\n",
              "        text-align: right;\n",
              "    }\n",
              "</style>\n",
              "<table border=\"1\" class=\"dataframe\">\n",
              "  <thead>\n",
              "    <tr style=\"text-align: right;\">\n",
              "      <th></th>\n",
              "      <th>duration</th>\n",
              "      <th>rating</th>\n",
              "      <th>metascore</th>\n",
              "      <th>votes</th>\n",
              "      <th>gross</th>\n",
              "    </tr>\n",
              "    <tr>\n",
              "      <th>year</th>\n",
              "      <th></th>\n",
              "      <th></th>\n",
              "      <th></th>\n",
              "      <th></th>\n",
              "      <th></th>\n",
              "    </tr>\n",
              "  </thead>\n",
              "  <tbody>\n",
              "    <tr>\n",
              "      <th>1959</th>\n",
              "      <td>121.000000</td>\n",
              "      <td>8.200000</td>\n",
              "      <td>97.000000</td>\n",
              "      <td>219353.000000</td>\n",
              "      <td>25.000000</td>\n",
              "    </tr>\n",
              "    <tr>\n",
              "      <th>1972</th>\n",
              "      <td>175.000000</td>\n",
              "      <td>9.200000</td>\n",
              "      <td>100.000000</td>\n",
              "      <td>1433674.000000</td>\n",
              "      <td>134.970000</td>\n",
              "    </tr>\n",
              "    <tr>\n",
              "      <th>1973</th>\n",
              "      <td>129.000000</td>\n",
              "      <td>8.300000</td>\n",
              "      <td>80.000000</td>\n",
              "      <td>218805.000000</td>\n",
              "      <td>159.600000</td>\n",
              "    </tr>\n",
              "    <tr>\n",
              "      <th>1974</th>\n",
              "      <td>202.000000</td>\n",
              "      <td>9.000000</td>\n",
              "      <td>90.000000</td>\n",
              "      <td>995839.000000</td>\n",
              "      <td>57.300000</td>\n",
              "    </tr>\n",
              "    <tr>\n",
              "      <th>1975</th>\n",
              "      <td>125.000000</td>\n",
              "      <td>8.000000</td>\n",
              "      <td>86.000000</td>\n",
              "      <td>217459.000000</td>\n",
              "      <td>50.000000</td>\n",
              "    </tr>\n",
              "    <tr>\n",
              "      <th>1977</th>\n",
              "      <td>121.000000</td>\n",
              "      <td>8.600000</td>\n",
              "      <td>90.000000</td>\n",
              "      <td>1116945.000000</td>\n",
              "      <td>322.740000</td>\n",
              "    </tr>\n",
              "    <tr>\n",
              "      <th>1980</th>\n",
              "      <td>124.000000</td>\n",
              "      <td>8.700000</td>\n",
              "      <td>82.000000</td>\n",
              "      <td>1047623.000000</td>\n",
              "      <td>290.480000</td>\n",
              "    </tr>\n",
              "    <tr>\n",
              "      <th>1983</th>\n",
              "      <td>131.000000</td>\n",
              "      <td>8.300000</td>\n",
              "      <td>58.000000</td>\n",
              "      <td>858065.000000</td>\n",
              "      <td>309.130000</td>\n",
              "    </tr>\n",
              "    <tr>\n",
              "      <th>1985</th>\n",
              "      <td>115.000000</td>\n",
              "      <td>8.150000</td>\n",
              "      <td>74.500000</td>\n",
              "      <td>573565.000000</td>\n",
              "      <td>136.055000</td>\n",
              "    </tr>\n",
              "    <tr>\n",
              "      <th>1987</th>\n",
              "      <td>109.000000</td>\n",
              "      <td>7.600000</td>\n",
              "      <td>68.000000</td>\n",
              "      <td>219007.000000</td>\n",
              "      <td>65.210000</td>\n",
              "    </tr>\n",
              "    <tr>\n",
              "      <th>1990</th>\n",
              "      <td>163.500000</td>\n",
              "      <td>8.350000</td>\n",
              "      <td>80.500000</td>\n",
              "      <td>560835.000000</td>\n",
              "      <td>115.525000</td>\n",
              "    </tr>\n",
              "    <tr>\n",
              "      <th>1991</th>\n",
              "      <td>127.500000</td>\n",
              "      <td>8.550000</td>\n",
              "      <td>80.000000</td>\n",
              "      <td>1015602.500000</td>\n",
              "      <td>167.790000</td>\n",
              "    </tr>\n",
              "    <tr>\n",
              "      <th>1993</th>\n",
              "      <td>160.000000</td>\n",
              "      <td>7.950000</td>\n",
              "      <td>73.000000</td>\n",
              "      <td>651170.000000</td>\n",
              "      <td>157.635000</td>\n",
              "    </tr>\n",
              "    <tr>\n",
              "      <th>1994</th>\n",
              "      <td>129.500000</td>\n",
              "      <td>8.550000</td>\n",
              "      <td>77.666667</td>\n",
              "      <td>1215597.000000</td>\n",
              "      <td>157.533333</td>\n",
              "    </tr>\n",
              "    <tr>\n",
              "      <th>1995</th>\n",
              "      <td>132.400000</td>\n",
              "      <td>7.640000</td>\n",
              "      <td>65.200000</td>\n",
              "      <td>702882.400000</td>\n",
              "      <td>97.940000</td>\n",
              "    </tr>\n",
              "    <tr>\n",
              "      <th>1996</th>\n",
              "      <td>139.000000</td>\n",
              "      <td>7.300000</td>\n",
              "      <td>77.000000</td>\n",
              "      <td>221693.000000</td>\n",
              "      <td>153.950000</td>\n",
              "    </tr>\n",
              "    <tr>\n",
              "      <th>1997</th>\n",
              "      <td>158.000000</td>\n",
              "      <td>6.466667</td>\n",
              "      <td>62.666667</td>\n",
              "      <td>463074.000000</td>\n",
              "      <td>264.353333</td>\n",
              "    </tr>\n",
              "    <tr>\n",
              "      <th>1998</th>\n",
              "      <td>116.166667</td>\n",
              "      <td>7.816667</td>\n",
              "      <td>69.833333</td>\n",
              "      <td>592180.333333</td>\n",
              "      <td>113.456667</td>\n",
              "    </tr>\n",
              "    <tr>\n",
              "      <th>1999</th>\n",
              "      <td>121.375000</td>\n",
              "      <td>8.075000</td>\n",
              "      <td>67.875000</td>\n",
              "      <td>833409.125000</td>\n",
              "      <td>115.038750</td>\n",
              "    </tr>\n",
              "    <tr>\n",
              "      <th>2000</th>\n",
              "      <td>134.000000</td>\n",
              "      <td>8.500000</td>\n",
              "      <td>73.500000</td>\n",
              "      <td>1116736.000000</td>\n",
              "      <td>106.625000</td>\n",
              "    </tr>\n",
              "    <tr>\n",
              "      <th>2001</th>\n",
              "      <td>135.250000</td>\n",
              "      <td>7.600000</td>\n",
              "      <td>60.000000</td>\n",
              "      <td>543918.500000</td>\n",
              "      <td>141.257500</td>\n",
              "    </tr>\n",
              "    <tr>\n",
              "      <th>2002</th>\n",
              "      <td>148.000000</td>\n",
              "      <td>8.200000</td>\n",
              "      <td>79.500000</td>\n",
              "      <td>786118.000000</td>\n",
              "      <td>223.500000</td>\n",
              "    </tr>\n",
              "    <tr>\n",
              "      <th>2003</th>\n",
              "      <td>138.750000</td>\n",
              "      <td>8.275000</td>\n",
              "      <td>79.000000</td>\n",
              "      <td>1053430.250000</td>\n",
              "      <td>283.550000</td>\n",
              "    </tr>\n",
              "    <tr>\n",
              "      <th>2004</th>\n",
              "      <td>104.500000</td>\n",
              "      <td>6.900000</td>\n",
              "      <td>51.500000</td>\n",
              "      <td>223672.500000</td>\n",
              "      <td>86.610000</td>\n",
              "    </tr>\n",
              "    <tr>\n",
              "      <th>2005</th>\n",
              "      <td>110.500000</td>\n",
              "      <td>7.600000</td>\n",
              "      <td>63.750000</td>\n",
              "      <td>644428.750000</td>\n",
              "      <td>104.440000</td>\n",
              "    </tr>\n",
              "    <tr>\n",
              "      <th>2006</th>\n",
              "      <td>122.000000</td>\n",
              "      <td>7.385714</td>\n",
              "      <td>58.857143</td>\n",
              "      <td>460792.857143</td>\n",
              "      <td>50.198571</td>\n",
              "    </tr>\n",
              "    <tr>\n",
              "      <th>2007</th>\n",
              "      <td>115.000000</td>\n",
              "      <td>7.550000</td>\n",
              "      <td>74.500000</td>\n",
              "      <td>223547.500000</td>\n",
              "      <td>27.305000</td>\n",
              "    </tr>\n",
              "    <tr>\n",
              "      <th>2008</th>\n",
              "      <td>121.571429</td>\n",
              "      <td>7.857143</td>\n",
              "      <td>71.714286</td>\n",
              "      <td>671811.857143</td>\n",
              "      <td>167.988571</td>\n",
              "    </tr>\n",
              "    <tr>\n",
              "      <th>2009</th>\n",
              "      <td>126.000000</td>\n",
              "      <td>8.100000</td>\n",
              "      <td>80.000000</td>\n",
              "      <td>804493.750000</td>\n",
              "      <td>391.350000</td>\n",
              "    </tr>\n",
              "    <tr>\n",
              "      <th>2010</th>\n",
              "      <td>131.000000</td>\n",
              "      <td>7.866667</td>\n",
              "      <td>67.000000</td>\n",
              "      <td>1017345.000000</td>\n",
              "      <td>179.936667</td>\n",
              "    </tr>\n",
              "    <tr>\n",
              "      <th>2011</th>\n",
              "      <td>105.142857</td>\n",
              "      <td>6.957143</td>\n",
              "      <td>60.857143</td>\n",
              "      <td>221363.142857</td>\n",
              "      <td>69.128571</td>\n",
              "    </tr>\n",
              "    <tr>\n",
              "      <th>2012</th>\n",
              "      <td>142.166667</td>\n",
              "      <td>7.533333</td>\n",
              "      <td>67.166667</td>\n",
              "      <td>739474.666667</td>\n",
              "      <td>222.688333</td>\n",
              "    </tr>\n",
              "  </tbody>\n",
              "</table>\n",
              "</div>"
            ],
            "text/plain": [
              "       duration   rating  metascore          votes      gross\n",
              "year                                                         \n",
              "1959 121.000000 8.200000  97.000000  219353.000000  25.000000\n",
              "1972 175.000000 9.200000 100.000000 1433674.000000 134.970000\n",
              "1973 129.000000 8.300000  80.000000  218805.000000 159.600000\n",
              "1974 202.000000 9.000000  90.000000  995839.000000  57.300000\n",
              "1975 125.000000 8.000000  86.000000  217459.000000  50.000000\n",
              "1977 121.000000 8.600000  90.000000 1116945.000000 322.740000\n",
              "1980 124.000000 8.700000  82.000000 1047623.000000 290.480000\n",
              "1983 131.000000 8.300000  58.000000  858065.000000 309.130000\n",
              "1985 115.000000 8.150000  74.500000  573565.000000 136.055000\n",
              "1987 109.000000 7.600000  68.000000  219007.000000  65.210000\n",
              "1990 163.500000 8.350000  80.500000  560835.000000 115.525000\n",
              "1991 127.500000 8.550000  80.000000 1015602.500000 167.790000\n",
              "1993 160.000000 7.950000  73.000000  651170.000000 157.635000\n",
              "1994 129.500000 8.550000  77.666667 1215597.000000 157.533333\n",
              "1995 132.400000 7.640000  65.200000  702882.400000  97.940000\n",
              "1996 139.000000 7.300000  77.000000  221693.000000 153.950000\n",
              "1997 158.000000 6.466667  62.666667  463074.000000 264.353333\n",
              "1998 116.166667 7.816667  69.833333  592180.333333 113.456667\n",
              "1999 121.375000 8.075000  67.875000  833409.125000 115.038750\n",
              "2000 134.000000 8.500000  73.500000 1116736.000000 106.625000\n",
              "2001 135.250000 7.600000  60.000000  543918.500000 141.257500\n",
              "2002 148.000000 8.200000  79.500000  786118.000000 223.500000\n",
              "2003 138.750000 8.275000  79.000000 1053430.250000 283.550000\n",
              "2004 104.500000 6.900000  51.500000  223672.500000  86.610000\n",
              "2005 110.500000 7.600000  63.750000  644428.750000 104.440000\n",
              "2006 122.000000 7.385714  58.857143  460792.857143  50.198571\n",
              "2007 115.000000 7.550000  74.500000  223547.500000  27.305000\n",
              "2008 121.571429 7.857143  71.714286  671811.857143 167.988571\n",
              "2009 126.000000 8.100000  80.000000  804493.750000 391.350000\n",
              "2010 131.000000 7.866667  67.000000 1017345.000000 179.936667\n",
              "2011 105.142857 6.957143  60.857143  221363.142857  69.128571\n",
              "2012 142.166667 7.533333  67.166667  739474.666667 222.688333"
            ]
          },
          "metadata": {
            "tags": []
          },
          "execution_count": 14
        }
      ]
    },
    {
      "cell_type": "code",
      "metadata": {
        "id": "HkteuiP4b6Jm",
        "colab_type": "code",
        "colab": {
          "base_uri": "https://localhost:8080/",
          "height": 314
        },
        "outputId": "cfc3a249-fe05-48cc-881a-13d2a96be3c2"
      },
      "source": [
        "df.groupby('year')['rating'].mean().plot.bar()"
      ],
      "execution_count": 15,
      "outputs": [
        {
          "output_type": "execute_result",
          "data": {
            "text/plain": [
              "<matplotlib.axes._subplots.AxesSubplot at 0x7fef598c9860>"
            ]
          },
          "metadata": {
            "tags": []
          },
          "execution_count": 15
        },
        {
          "output_type": "display_data",
          "data": {
            "image/png": "[encoded data removed]",
            "text/plain": [
              "<Figure size 432x288 with 1 Axes>"
            ]
          },
          "metadata": {
            "tags": []
          }
        }
      ]
    },
    {
      "cell_type": "code",
      "metadata": {
        "id": "agZJQvHfeQVD",
        "colab_type": "code",
        "colab": {
          "base_uri": "https://localhost:8080/",
          "height": 314
        },
        "outputId": "260f7a75-dbe2-4d07-845f-59e4269d8c56"
      },
      "source": [
        "# how about duration over the years?\n",
        "\n",
        "df.groupby('year')['duration'].mean().plot.bar()"
      ],
      "execution_count": 16,
      "outputs": [
        {
          "output_type": "execute_result",
          "data": {
            "text/plain": [
              "<matplotlib.axes._subplots.AxesSubplot at 0x7fef56f86e48>"
            ]
          },
          "metadata": {
            "tags": []
          },
          "execution_count": 16
        },
        {
          "output_type": "display_data",
          "data": {
            "image/png": "[encoded data removed]",
            "text/plain": [
              "<Figure size 432x288 with 1 Axes>"
            ]
          },
          "metadata": {
            "tags": []
          }
        }
      ]
    },
    {
      "cell_type": "code",
      "metadata": {
        "id": "hAzU03oKWLHm",
        "colab_type": "code",
        "colab": {
          "base_uri": "https://localhost:8080/",
          "height": 286
        },
        "outputId": "ad4d9afd-fd2b-43bc-8a60-f9892a499ca5"
      },
      "source": [
        "# detect outliers (rating)\n",
        "sns.boxplot([df.rating])"
      ],
      "execution_count": 17,
      "outputs": [
        {
          "output_type": "execute_result",
          "data": {
            "text/plain": [
              "<matplotlib.axes._subplots.AxesSubplot at 0x7fef598b93c8>"
            ]
          },
          "metadata": {
            "tags": []
          },
          "execution_count": 17
        },
        {
          "output_type": "display_data",
          "data": {
            "image/png": "[encoded data removed]",
            "text/plain": [
              "<Figure size 432x288 with 1 Axes>"
            ]
          },
          "metadata": {
            "tags": []
          }
        }
      ]
    },
    {
      "cell_type": "code",
      "metadata": {
        "id": "0FIZX3lBIhj8",
        "colab_type": "code",
        "colab": {
          "base_uri": "https://localhost:8080/",
          "height": 377
        },
        "outputId": "07ddf182-dc5f-42d9-a639-86d8e0dec1ff"
      },
      "source": [
        "df.sort_values('rating', ascending=False).head(10)"
      ],
      "execution_count": 18,
      "outputs": [
        {
          "output_type": "execute_result",
          "data": {
            "text/html": [
              "<div>\n",
              "<style scoped>\n",
              "    .dataframe tbody tr th:only-of-type {\n",
              "        vertical-align: middle;\n",
              "    }\n",
              "\n",
              "    .dataframe tbody tr th {\n",
              "        vertical-align: top;\n",
              "    }\n",
              "\n",
              "    .dataframe thead th {\n",
              "        text-align: right;\n",
              "    }\n",
              "</style>\n",
              "<table border=\"1\" class=\"dataframe\">\n",
              "  <thead>\n",
              "    <tr style=\"text-align: right;\">\n",
              "      <th></th>\n",
              "      <th>title</th>\n",
              "      <th>url</th>\n",
              "      <th>year</th>\n",
              "      <th>duration</th>\n",
              "      <th>rating</th>\n",
              "      <th>metascore</th>\n",
              "      <th>votes</th>\n",
              "      <th>gross</th>\n",
              "    </tr>\n",
              "  </thead>\n",
              "  <tbody>\n",
              "    <tr>\n",
              "      <th>0</th>\n",
              "      <td>'The Shawshank Redemption'</td>\n",
              "      <td>'/title/tt0111161/'</td>\n",
              "      <td>1994</td>\n",
              "      <td>142</td>\n",
              "      <td>9.300000</td>\n",
              "      <td>80.000000</td>\n",
              "      <td>2089035</td>\n",
              "      <td>28.340000</td>\n",
              "    </tr>\n",
              "    <tr>\n",
              "      <th>9</th>\n",
              "      <td>'The Godfather'</td>\n",
              "      <td>'/title/tt0068646/'</td>\n",
              "      <td>1972</td>\n",
              "      <td>175</td>\n",
              "      <td>9.200000</td>\n",
              "      <td>100.000000</td>\n",
              "      <td>1433674</td>\n",
              "      <td>134.970000</td>\n",
              "    </tr>\n",
              "    <tr>\n",
              "      <th>29</th>\n",
              "      <td>'The Godfather: Part II'</td>\n",
              "      <td>'/title/tt0071562/'</td>\n",
              "      <td>1974</td>\n",
              "      <td>202</td>\n",
              "      <td>9.000000</td>\n",
              "      <td>90.000000</td>\n",
              "      <td>995839</td>\n",
              "      <td>57.300000</td>\n",
              "    </tr>\n",
              "    <tr>\n",
              "      <th>1</th>\n",
              "      <td>'The Dark Knight'</td>\n",
              "      <td>'/title/tt0468569/'</td>\n",
              "      <td>2008</td>\n",
              "      <td>152</td>\n",
              "      <td>9.000000</td>\n",
              "      <td>84.000000</td>\n",
              "      <td>2055527</td>\n",
              "      <td>534.860000</td>\n",
              "    </tr>\n",
              "    <tr>\n",
              "      <th>4</th>\n",
              "      <td>'Pulp Fiction'</td>\n",
              "      <td>'/title/tt0110912/'</td>\n",
              "      <td>1994</td>\n",
              "      <td>154</td>\n",
              "      <td>8.900000</td>\n",
              "      <td>94.000000</td>\n",
              "      <td>1632929</td>\n",
              "      <td>107.930000</td>\n",
              "    </tr>\n",
              "    <tr>\n",
              "      <th>8</th>\n",
              "      <td>'The Lord of the Rings: The Return of the King'</td>\n",
              "      <td>'/title/tt0167260/'</td>\n",
              "      <td>2003</td>\n",
              "      <td>201</td>\n",
              "      <td>8.900000</td>\n",
              "      <td>94.000000</td>\n",
              "      <td>1486945</td>\n",
              "      <td>377.850000</td>\n",
              "    </tr>\n",
              "    <tr>\n",
              "      <th>21</th>\n",
              "      <td>\"Schindler's List\"</td>\n",
              "      <td>'/title/tt0108052/'</td>\n",
              "      <td>1993</td>\n",
              "      <td>195</td>\n",
              "      <td>8.900000</td>\n",
              "      <td>93.000000</td>\n",
              "      <td>1082790</td>\n",
              "      <td>96.070000</td>\n",
              "    </tr>\n",
              "    <tr>\n",
              "      <th>6</th>\n",
              "      <td>'The Lord of the Rings: The Fellowship of the ...</td>\n",
              "      <td>'/title/tt0120737/'</td>\n",
              "      <td>2001</td>\n",
              "      <td>178</td>\n",
              "      <td>8.800000</td>\n",
              "      <td>92.000000</td>\n",
              "      <td>1502989</td>\n",
              "      <td>315.540000</td>\n",
              "    </tr>\n",
              "    <tr>\n",
              "      <th>3</th>\n",
              "      <td>'Fight Club'</td>\n",
              "      <td>'/title/tt0137523/'</td>\n",
              "      <td>1999</td>\n",
              "      <td>139</td>\n",
              "      <td>8.800000</td>\n",
              "      <td>66.000000</td>\n",
              "      <td>1670224</td>\n",
              "      <td>37.030000</td>\n",
              "    </tr>\n",
              "    <tr>\n",
              "      <th>2</th>\n",
              "      <td>'Inception'</td>\n",
              "      <td>'/title/tt1375666/'</td>\n",
              "      <td>2010</td>\n",
              "      <td>148</td>\n",
              "      <td>8.800000</td>\n",
              "      <td>74.000000</td>\n",
              "      <td>1830297</td>\n",
              "      <td>292.580000</td>\n",
              "    </tr>\n",
              "  </tbody>\n",
              "</table>\n",
              "</div>"
            ],
            "text/plain": [
              "                                                title  ...      gross\n",
              "0                          'The Shawshank Redemption'  ...  28.340000\n",
              "9                                     'The Godfather'  ... 134.970000\n",
              "29                           'The Godfather: Part II'  ...  57.300000\n",
              "1                                   'The Dark Knight'  ... 534.860000\n",
              "4                                      'Pulp Fiction'  ... 107.930000\n",
              "8     'The Lord of the Rings: The Return of the King'  ... 377.850000\n",
              "21                                 \"Schindler's List\"  ...  96.070000\n",
              "6   'The Lord of the Rings: The Fellowship of the ...  ... 315.540000\n",
              "3                                        'Fight Club'  ...  37.030000\n",
              "2                                         'Inception'  ... 292.580000\n",
              "\n",
              "[10 rows x 8 columns]"
            ]
          },
          "metadata": {
            "tags": []
          },
          "execution_count": 18
        }
      ]
    },
    {
      "cell_type": "code",
      "metadata": {
        "id": "1SNdG1JHTU04",
        "colab_type": "code",
        "colab": {
          "base_uri": "https://localhost:8080/",
          "height": 343
        },
        "outputId": "6e28b8de-5f39-4b14-89ad-62c314f9306b"
      },
      "source": [
        "# what are those outliers?\n",
        "df.sort_values('rating', ascending=False).tail(10)"
      ],
      "execution_count": 19,
      "outputs": [
        {
          "output_type": "execute_result",
          "data": {
            "text/html": [
              "<div>\n",
              "<style scoped>\n",
              "    .dataframe tbody tr th:only-of-type {\n",
              "        vertical-align: middle;\n",
              "    }\n",
              "\n",
              "    .dataframe tbody tr th {\n",
              "        vertical-align: top;\n",
              "    }\n",
              "\n",
              "    .dataframe thead th {\n",
              "        text-align: right;\n",
              "    }\n",
              "</style>\n",
              "<table border=\"1\" class=\"dataframe\">\n",
              "  <thead>\n",
              "    <tr style=\"text-align: right;\">\n",
              "      <th></th>\n",
              "      <th>title</th>\n",
              "      <th>url</th>\n",
              "      <th>year</th>\n",
              "      <th>duration</th>\n",
              "      <th>rating</th>\n",
              "      <th>metascore</th>\n",
              "      <th>votes</th>\n",
              "      <th>gross</th>\n",
              "    </tr>\n",
              "  </thead>\n",
              "  <tbody>\n",
              "    <tr>\n",
              "      <th>94</th>\n",
              "      <td>'Saw II'</td>\n",
              "      <td>'/title/tt0432348/'</td>\n",
              "      <td>2005</td>\n",
              "      <td>93</td>\n",
              "      <td>6.600000</td>\n",
              "      <td>40.000000</td>\n",
              "      <td>217162</td>\n",
              "      <td>87.040000</td>\n",
              "    </tr>\n",
              "    <tr>\n",
              "      <th>54</th>\n",
              "      <td>'The Village'</td>\n",
              "      <td>'/title/tt0368447/'</td>\n",
              "      <td>2004</td>\n",
              "      <td>108</td>\n",
              "      <td>6.500000</td>\n",
              "      <td>44.000000</td>\n",
              "      <td>227241</td>\n",
              "      <td>114.200000</td>\n",
              "    </tr>\n",
              "    <tr>\n",
              "      <th>59</th>\n",
              "      <td>'American Pie 2'</td>\n",
              "      <td>'/title/tt0252866/'</td>\n",
              "      <td>2001</td>\n",
              "      <td>108</td>\n",
              "      <td>6.400000</td>\n",
              "      <td>43.000000</td>\n",
              "      <td>225113</td>\n",
              "      <td>145.100000</td>\n",
              "    </tr>\n",
              "    <tr>\n",
              "      <th>99</th>\n",
              "      <td>'The Blair Witch Project'</td>\n",
              "      <td>'/title/tt0185937/'</td>\n",
              "      <td>1999</td>\n",
              "      <td>81</td>\n",
              "      <td>6.400000</td>\n",
              "      <td>81.000000</td>\n",
              "      <td>215860</td>\n",
              "      <td>140.540000</td>\n",
              "    </tr>\n",
              "    <tr>\n",
              "      <th>89</th>\n",
              "      <td>'Sucker Punch'</td>\n",
              "      <td>'/title/tt0978764/'</td>\n",
              "      <td>2011</td>\n",
              "      <td>110</td>\n",
              "      <td>6.100000</td>\n",
              "      <td>33.000000</td>\n",
              "      <td>217928</td>\n",
              "      <td>36.390000</td>\n",
              "    </tr>\n",
              "    <tr>\n",
              "      <th>93</th>\n",
              "      <td>'I Am Number Four'</td>\n",
              "      <td>'/title/tt1464540/'</td>\n",
              "      <td>2011</td>\n",
              "      <td>111</td>\n",
              "      <td>6.100000</td>\n",
              "      <td>36.000000</td>\n",
              "      <td>217270</td>\n",
              "      <td>55.100000</td>\n",
              "    </tr>\n",
              "    <tr>\n",
              "      <th>88</th>\n",
              "      <td>'The Fast and the Furious: Tokyo Drift'</td>\n",
              "      <td>'/title/tt0463985/'</td>\n",
              "      <td>2006</td>\n",
              "      <td>104</td>\n",
              "      <td>6.000000</td>\n",
              "      <td>45.000000</td>\n",
              "      <td>218354</td>\n",
              "      <td>62.510000</td>\n",
              "    </tr>\n",
              "    <tr>\n",
              "      <th>60</th>\n",
              "      <td>'Battleship'</td>\n",
              "      <td>'/title/tt1440129/'</td>\n",
              "      <td>2012</td>\n",
              "      <td>131</td>\n",
              "      <td>5.800000</td>\n",
              "      <td>41.000000</td>\n",
              "      <td>224960</td>\n",
              "      <td>65.420000</td>\n",
              "    </tr>\n",
              "    <tr>\n",
              "      <th>77</th>\n",
              "      <td>'Batman Forever'</td>\n",
              "      <td>'/title/tt0112462/'</td>\n",
              "      <td>1995</td>\n",
              "      <td>121</td>\n",
              "      <td>5.400000</td>\n",
              "      <td>51.000000</td>\n",
              "      <td>219668</td>\n",
              "      <td>184.030000</td>\n",
              "    </tr>\n",
              "    <tr>\n",
              "      <th>90</th>\n",
              "      <td>'Batman &amp; Robin'</td>\n",
              "      <td>'/title/tt0118688/'</td>\n",
              "      <td>1997</td>\n",
              "      <td>125</td>\n",
              "      <td>3.700000</td>\n",
              "      <td>28.000000</td>\n",
              "      <td>217562</td>\n",
              "      <td>107.330000</td>\n",
              "    </tr>\n",
              "  </tbody>\n",
              "</table>\n",
              "</div>"
            ],
            "text/plain": [
              "                                      title  ...      gross\n",
              "94                                 'Saw II'  ...  87.040000\n",
              "54                            'The Village'  ... 114.200000\n",
              "59                         'American Pie 2'  ... 145.100000\n",
              "99                'The Blair Witch Project'  ... 140.540000\n",
              "89                           'Sucker Punch'  ...  36.390000\n",
              "93                       'I Am Number Four'  ...  55.100000\n",
              "88  'The Fast and the Furious: Tokyo Drift'  ...  62.510000\n",
              "60                             'Battleship'  ...  65.420000\n",
              "77                         'Batman Forever'  ... 184.030000\n",
              "90                         'Batman & Robin'  ... 107.330000\n",
              "\n",
              "[10 rows x 8 columns]"
            ]
          },
          "metadata": {
            "tags": []
          },
          "execution_count": 19
        }
      ]
    },
    {
      "cell_type": "code",
      "metadata": {
        "id": "LpSO53m-ZohV",
        "colab_type": "code",
        "colab": {}
      },
      "source": [
        "# detect outliers (gross)\n"
      ],
      "execution_count": 0,
      "outputs": []
    },
    {
      "cell_type": "code",
      "metadata": {
        "id": "VQ5j-bupehRR",
        "colab_type": "code",
        "colab": {}
      },
      "source": [
        "# What are those outliers?\n",
        "\n"
      ],
      "execution_count": 0,
      "outputs": []
    },
    {
      "cell_type": "code",
      "metadata": {
        "id": "rnXDNnE3TU34",
        "colab_type": "code",
        "colab": {
          "base_uri": "https://localhost:8080/",
          "height": 225
        },
        "outputId": "14f8b5e7-a9b7-4a94-bc33-f9025d814726"
      },
      "source": [
        "# correlation\n",
        "df.corr()"
      ],
      "execution_count": 20,
      "outputs": [
        {
          "output_type": "execute_result",
          "data": {
            "text/html": [
              "<div>\n",
              "<style scoped>\n",
              "    .dataframe tbody tr th:only-of-type {\n",
              "        vertical-align: middle;\n",
              "    }\n",
              "\n",
              "    .dataframe tbody tr th {\n",
              "        vertical-align: top;\n",
              "    }\n",
              "\n",
              "    .dataframe thead th {\n",
              "        text-align: right;\n",
              "    }\n",
              "</style>\n",
              "<table border=\"1\" class=\"dataframe\">\n",
              "  <thead>\n",
              "    <tr style=\"text-align: right;\">\n",
              "      <th></th>\n",
              "      <th>year</th>\n",
              "      <th>duration</th>\n",
              "      <th>rating</th>\n",
              "      <th>metascore</th>\n",
              "      <th>votes</th>\n",
              "      <th>gross</th>\n",
              "    </tr>\n",
              "  </thead>\n",
              "  <tbody>\n",
              "    <tr>\n",
              "      <th>year</th>\n",
              "      <td>1.000000</td>\n",
              "      <td>-0.184043</td>\n",
              "      <td>-0.310353</td>\n",
              "      <td>-0.338725</td>\n",
              "      <td>-0.094216</td>\n",
              "      <td>0.034264</td>\n",
              "    </tr>\n",
              "    <tr>\n",
              "      <th>duration</th>\n",
              "      <td>-0.184043</td>\n",
              "      <td>1.000000</td>\n",
              "      <td>0.440278</td>\n",
              "      <td>0.311059</td>\n",
              "      <td>0.531026</td>\n",
              "      <td>0.356203</td>\n",
              "    </tr>\n",
              "    <tr>\n",
              "      <th>rating</th>\n",
              "      <td>-0.310353</td>\n",
              "      <td>0.440278</td>\n",
              "      <td>1.000000</td>\n",
              "      <td>0.726519</td>\n",
              "      <td>0.739777</td>\n",
              "      <td>0.246626</td>\n",
              "    </tr>\n",
              "    <tr>\n",
              "      <th>metascore</th>\n",
              "      <td>-0.338725</td>\n",
              "      <td>0.311059</td>\n",
              "      <td>0.726519</td>\n",
              "      <td>1.000000</td>\n",
              "      <td>0.509621</td>\n",
              "      <td>0.319727</td>\n",
              "    </tr>\n",
              "    <tr>\n",
              "      <th>votes</th>\n",
              "      <td>-0.094216</td>\n",
              "      <td>0.531026</td>\n",
              "      <td>0.739777</td>\n",
              "      <td>0.509621</td>\n",
              "      <td>1.000000</td>\n",
              "      <td>0.481024</td>\n",
              "    </tr>\n",
              "    <tr>\n",
              "      <th>gross</th>\n",
              "      <td>0.034264</td>\n",
              "      <td>0.356203</td>\n",
              "      <td>0.246626</td>\n",
              "      <td>0.319727</td>\n",
              "      <td>0.481024</td>\n",
              "      <td>1.000000</td>\n",
              "    </tr>\n",
              "  </tbody>\n",
              "</table>\n",
              "</div>"
            ],
            "text/plain": [
              "               year  duration    rating  metascore     votes    gross\n",
              "year       1.000000 -0.184043 -0.310353  -0.338725 -0.094216 0.034264\n",
              "duration  -0.184043  1.000000  0.440278   0.311059  0.531026 0.356203\n",
              "rating    -0.310353  0.440278  1.000000   0.726519  0.739777 0.246626\n",
              "metascore -0.338725  0.311059  0.726519   1.000000  0.509621 0.319727\n",
              "votes     -0.094216  0.531026  0.739777   0.509621  1.000000 0.481024\n",
              "gross      0.034264  0.356203  0.246626   0.319727  0.481024 1.000000"
            ]
          },
          "metadata": {
            "tags": []
          },
          "execution_count": 20
        }
      ]
    },
    {
      "cell_type": "code",
      "metadata": {
        "id": "8NKsKLzvTU6p",
        "colab_type": "code",
        "colab": {
          "base_uri": "https://localhost:8080/",
          "height": 490
        },
        "outputId": "078d95a9-1285-4fbc-d0da-2ffad5888cc1"
      },
      "source": [
        "plt.figure(figsize=(8,8))\n",
        "sns.heatmap(df.corr(), vmax=.8, square=True, annot=True, fmt=\".1f\")"
      ],
      "execution_count": 21,
      "outputs": [
        {
          "output_type": "execute_result",
          "data": {
            "text/plain": [
              "<matplotlib.axes._subplots.AxesSubplot at 0x7fef56e33eb8>"
            ]
          },
          "metadata": {
            "tags": []
          },
          "execution_count": 21
        },
        {
          "output_type": "display_data",
          "data": {
            "image/png": "[encoded data removed]",
            "text/plain": [
              "<Figure size 576x576 with 2 Axes>"
            ]
          },
          "metadata": {
            "tags": []
          }
        }
      ]
    },
    {
      "cell_type": "markdown",
      "metadata": {
        "id": "fvZKn5c3U8Pt",
        "colab_type": "text"
      },
      "source": [
        "# Predictive Analytics: Regression"
      ]
    },
    {
      "cell_type": "code",
      "metadata": {
        "id": "wPTBUHsXVBzE",
        "colab_type": "code",
        "colab": {}
      },
      "source": [
        "#regression packages\n",
        "import sklearn.linear_model as lm\n",
        "from sklearn.metrics import mean_squared_error\n",
        "from sklearn.metrics import explained_variance_score\n",
        "\n",
        "from sklearn.model_selection import train_test_split"
      ],
      "execution_count": 0,
      "outputs": []
    },
    {
      "cell_type": "code",
      "metadata": {
        "id": "BE6gEuzTVpj8",
        "colab_type": "code",
        "colab": {}
      },
      "source": [
        "# remove missing values\n",
        "df = df.dropna()"
      ],
      "execution_count": 0,
      "outputs": []
    },
    {
      "cell_type": "code",
      "metadata": {
        "id": "xYAKqeIWVB9S",
        "colab_type": "code",
        "colab": {}
      },
      "source": [
        "y = df['rating'] \n",
        "X = df[['year', 'duration', 'metascore', 'votes', 'gross']]"
      ],
      "execution_count": 0,
      "outputs": []
    },
    {
      "cell_type": "code",
      "metadata": {
        "id": "qNNmRPWqnR0P",
        "colab_type": "code",
        "colab": {}
      },
      "source": [
        "X_train, X_test, y_train, y_test = train_test_split(X, y, test_size=0.33, random_state=42)"
      ],
      "execution_count": 0,
      "outputs": []
    },
    {
      "cell_type": "code",
      "metadata": {
        "id": "mcsPhjG_nYDl",
        "colab_type": "code",
        "colab": {
          "base_uri": "https://localhost:8080/",
          "height": 34
        },
        "outputId": "9c16f916-1c4d-4690-bfa9-335db7d3fadb"
      },
      "source": [
        "print(X_train.shape, X_test.shape, y_train.shape, y_test.shape)"
      ],
      "execution_count": 41,
      "outputs": [
        {
          "output_type": "stream",
          "text": [
            "(66, 5) (33, 5) (66,) (33,)\n"
          ],
          "name": "stdout"
        }
      ]
    },
    {
      "cell_type": "code",
      "metadata": {
        "id": "6fHu2kcmVCAO",
        "colab_type": "code",
        "colab": {}
      },
      "source": [
        "# machine learning\n",
        "model = lm.LinearRegression()\n",
        "#model.fit(X, y)   \n",
        "#pred = model.predict(X)\n",
        "\n",
        "model = model.fit(X_train, y_train)\n",
        "pred = model.predict(X_test)"
      ],
      "execution_count": 0,
      "outputs": []
    },
    {
      "cell_type": "code",
      "metadata": {
        "id": "SNaB6Q9AWSml",
        "colab_type": "code",
        "colab": {
          "base_uri": "https://localhost:8080/",
          "height": 300
        },
        "outputId": "509e758e-757e-44d9-ae69-9191ccea4c4a"
      },
      "source": [
        "plt.subplots()\n",
        "#plt.scatter(y, pred)\n",
        "plt.scatter(y_test, pred)\n",
        "#plt.plot([y.min(), y.max()], [y.min(), y.max()], 'k--', lw=4)   #dotted line represents perfect prediction (actual = predicted)\n",
        "plt.plot([y_test.min(), y_test.max()], [y_test.min(), y_test.max()], 'k--', lw=4)   #dotted line represents perfect prediction (actual = predicted)\n",
        "plt.xlabel('Actual')\n",
        "plt.ylabel('Predicted')"
      ],
      "execution_count": 55,
      "outputs": [
        {
          "output_type": "execute_result",
          "data": {
            "text/plain": [
              "Text(0, 0.5, 'Predicted')"
            ]
          },
          "metadata": {
            "tags": []
          },
          "execution_count": 55
        },
        {
          "output_type": "display_data",
          "data": {
            "image/png": "[encoded data removed]",
            "text/plain": [
              "<Figure size 432x288 with 1 Axes>"
            ]
          },
          "metadata": {
            "tags": []
          }
        }
      ]
    },
    {
      "cell_type": "code",
      "metadata": {
        "id": "RAgCSHlEVCC7",
        "colab_type": "code",
        "colab": {
          "base_uri": "https://localhost:8080/",
          "height": 195
        },
        "outputId": "20a38b7e-d714-4b3d-8d2d-efc0d964c9ae"
      },
      "source": [
        "import numpy as np\n",
        "pd.DataFrame(list(zip(X.columns, np.transpose(model.coef_))))"
      ],
      "execution_count": 56,
      "outputs": [
        {
          "output_type": "execute_result",
          "data": {
            "text/html": [
              "<div>\n",
              "<style scoped>\n",
              "    .dataframe tbody tr th:only-of-type {\n",
              "        vertical-align: middle;\n",
              "    }\n",
              "\n",
              "    .dataframe tbody tr th {\n",
              "        vertical-align: top;\n",
              "    }\n",
              "\n",
              "    .dataframe thead th {\n",
              "        text-align: right;\n",
              "    }\n",
              "</style>\n",
              "<table border=\"1\" class=\"dataframe\">\n",
              "  <thead>\n",
              "    <tr style=\"text-align: right;\">\n",
              "      <th></th>\n",
              "      <th>0</th>\n",
              "      <th>1</th>\n",
              "    </tr>\n",
              "  </thead>\n",
              "  <tbody>\n",
              "    <tr>\n",
              "      <th>0</th>\n",
              "      <td>year</td>\n",
              "      <td>-0.011074</td>\n",
              "    </tr>\n",
              "    <tr>\n",
              "      <th>1</th>\n",
              "      <td>duration</td>\n",
              "      <td>0.000954</td>\n",
              "    </tr>\n",
              "    <tr>\n",
              "      <th>2</th>\n",
              "      <td>metascore</td>\n",
              "      <td>0.027905</td>\n",
              "    </tr>\n",
              "    <tr>\n",
              "      <th>3</th>\n",
              "      <td>votes</td>\n",
              "      <td>0.000001</td>\n",
              "    </tr>\n",
              "    <tr>\n",
              "      <th>4</th>\n",
              "      <td>gross</td>\n",
              "      <td>-0.001178</td>\n",
              "    </tr>\n",
              "  </tbody>\n",
              "</table>\n",
              "</div>"
            ],
            "text/plain": [
              "           0         1\n",
              "0       year -0.011074\n",
              "1   duration  0.000954\n",
              "2  metascore  0.027905\n",
              "3      votes  0.000001\n",
              "4      gross -0.001178"
            ]
          },
          "metadata": {
            "tags": []
          },
          "execution_count": 56
        }
      ]
    },
    {
      "cell_type": "markdown",
      "metadata": {
        "id": "uF3Sr4MTWqOC",
        "colab_type": "text"
      },
      "source": [
        "there is little correlation between gross revenue and rating. What is going on here?"
      ]
    },
    {
      "cell_type": "code",
      "metadata": {
        "id": "dPuLxTD2VCFm",
        "colab_type": "code",
        "colab": {
          "base_uri": "https://localhost:8080/",
          "height": 50
        },
        "outputId": "2be38f94-ddb9-41e4-a5d7-c9f469c5b799"
      },
      "source": [
        "#print(\"mean square error: \", mean_squared_error(y, pred))\n",
        "print(\"mean square error: \", mean_squared_error(y_test, pred))\n",
        "print(\"variance or r-squared: \", explained_variance_score(y_test, pred))"
      ],
      "execution_count": 58,
      "outputs": [
        {
          "output_type": "stream",
          "text": [
            "mean square error:  0.19914841110599357\n",
            "variance or r-squared:  0.6960420265216218\n"
          ],
          "name": "stdout"
        }
      ]
    },
    {
      "cell_type": "code",
      "metadata": {
        "id": "sgw_VAsNZ3IV",
        "colab_type": "code",
        "colab": {}
      },
      "source": [
        ""
      ],
      "execution_count": 0,
      "outputs": []
    },
    {
      "cell_type": "code",
      "metadata": {
        "id": "euzqlDZfWLQN",
        "colab_type": "code",
        "colab": {}
      },
      "source": [
        ""
      ],
      "execution_count": 0,
      "outputs": []
    }
  ]
}